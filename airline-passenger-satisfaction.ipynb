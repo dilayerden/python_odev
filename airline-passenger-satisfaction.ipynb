{
 "cells": [
  {
   "cell_type": "markdown",
   "id": "b1bfd02e",
   "metadata": {
    "papermill": {
     "duration": 0.018618,
     "end_time": "2023-07-16T18:43:04.804459",
     "exception": false,
     "start_time": "2023-07-16T18:43:04.785841",
     "status": "completed"
    },
    "tags": []
   },
   "source": [
    "<div style=\"border-width:1; border-radius: 15px; border-style: solid; border-color: rgb(10, 10, 10); background-color: #9370D8; text-align: center;font: 14pt 'Candara';font-weight:bold;\"><h1>Task description</h1></div>"
   ]
  },
  {
   "cell_type": "markdown",
   "id": "6d3fca3a",
   "metadata": {
    "papermill": {
     "duration": 0.017296,
     "end_time": "2023-07-16T18:43:04.839592",
     "exception": false,
     "start_time": "2023-07-16T18:43:04.822296",
     "status": "completed"
    },
    "tags": []
   },
   "source": [
    "**There is the following information about the passengers of some airline:**\n",
    "\n",
    "1. **Gender:** male or female\n",
    "2. **Customer type:** regular or non-regular airline customer\n",
    "3. **Age:** the actual age of the passenger\n",
    "4. **Type of travel:** the purpose of the passenger's flight (personal or business travel)\n",
    "5. **Class:** business, economy, economy plus\n",
    "6. **Flight distance**\n",
    "7. **Inflight wifi service:** satisfaction level with Wi-Fi service on board (0: not rated; 1-5)\n",
    "8. **Departure/Arrival time convenient:** departure/arrival time satisfaction level (0: not rated; 1-5)\n",
    "9. **Ease of Online booking:** online booking satisfaction rate (0: not rated; 1-5)\n",
    "10. **Gate location:** level of satisfaction with the gate location (0: not rated; 1-5)\n",
    "11. **Food and drink:** food and drink satisfaction level (0: not rated; 1-5)\n",
    "12. **Online boarding:** satisfaction level with online boarding (0: not rated; 1-5)\n",
    "13. **Seat comfort:** seat satisfaction level (0: not rated; 1-5)\n",
    "14. **Inflight entertainment:** satisfaction with inflight entertainment (0: not rated; 1-5)\n",
    "15. **On-board service:** level of satisfaction with on-board service (0: not rated; 1-5)\n",
    "16. **Leg room service**: level of satisfaction with leg room service (0: not rated; 1-5)\n",
    "17. **Baggage handling:** level of satisfaction with baggage handling (0: not rated; 1-5)\n",
    "18. **Checkin service:** level of satisfaction with checkin service (0: not rated; 1-5)\n",
    "19. **Inflight service:** level of satisfaction with inflight service (0: not rated; 1-5)\n",
    "20. **Cleanliness:** level of satisfaction with cleanliness (0: not rated; 1-5)\n",
    "21. **Departure delay in minutes**\n",
    "22. **Arrival delay in minutes**\n",
    "\n",
    "This data set contains a survey on <b>air passenger satisfaction</b>. The following <b>classification problem</b> is set:\n",
    "\n",
    "It is necessary to predict which of the <b>two</b> levels of satisfaction with the airline the passenger belongs to:\n",
    "<ol>\n",
    "    <li><em>Satisfaction</em></li>\n",
    "    <li><em>Neutral or dissatisfied</em></li>\n",
    "</ol>"
   ]
  },
  {
   "cell_type": "markdown",
   "id": "2bd743c2",
   "metadata": {
    "papermill": {
     "duration": 0.018312,
     "end_time": "2023-07-16T18:43:04.875378",
     "exception": false,
     "start_time": "2023-07-16T18:43:04.857066",
     "status": "completed"
    },
    "tags": []
   },
   "source": [
    "<div style=\"border-width:1; border-radius: 15px; border-style: solid; border-color: rgb(10, 10, 10); background-color: #9370D8; text-align: center;font: 14pt 'Candara';font-weight:bold;\"><h1>Installation scikit-learn-intelex</h1></div>"
   ]
  },
  {
   "cell_type": "code",
   "execution_count": 1,
   "id": "3c01bc2e",
   "metadata": {
    "execution": {
     "iopub.execute_input": "2023-07-16T18:43:04.912325Z",
     "iopub.status.busy": "2023-07-16T18:43:04.911638Z",
     "iopub.status.idle": "2023-07-16T18:43:17.618764Z",
     "shell.execute_reply": "2023-07-16T18:43:17.617769Z"
    },
    "papermill": {
     "duration": 12.728744,
     "end_time": "2023-07-16T18:43:17.621624",
     "exception": false,
     "start_time": "2023-07-16T18:43:04.892880",
     "status": "completed"
    },
    "tags": []
   },
   "outputs": [
    {
     "name": "stdout",
     "output_type": "stream",
     "text": [
      "Requirement already satisfied: scikit-learn-intelex in /opt/conda/lib/python3.10/site-packages (2023.1.1)\r\n",
      "Requirement already satisfied: daal4py==2023.1.1 in /opt/conda/lib/python3.10/site-packages (from scikit-learn-intelex) (2023.1.1)\r\n",
      "Requirement already satisfied: scikit-learn>=0.22 in /opt/conda/lib/python3.10/site-packages (from scikit-learn-intelex) (1.2.2)\r\n",
      "Requirement already satisfied: daal==2023.1.1 in /opt/conda/lib/python3.10/site-packages (from daal4py==2023.1.1->scikit-learn-intelex) (2023.1.1)\r\n",
      "Requirement already satisfied: numpy>=1.19 in /opt/conda/lib/python3.10/site-packages (from daal4py==2023.1.1->scikit-learn-intelex) (1.23.5)\r\n",
      "Requirement already satisfied: tbb==2021.* in /opt/conda/lib/python3.10/site-packages (from daal==2023.1.1->daal4py==2023.1.1->scikit-learn-intelex) (2021.9.0)\r\n",
      "Requirement already satisfied: scipy>=1.3.2 in /opt/conda/lib/python3.10/site-packages (from scikit-learn>=0.22->scikit-learn-intelex) (1.11.1)\r\n",
      "Requirement already satisfied: joblib>=1.1.1 in /opt/conda/lib/python3.10/site-packages (from scikit-learn>=0.22->scikit-learn-intelex) (1.2.0)\r\n",
      "Requirement already satisfied: threadpoolctl>=2.0.0 in /opt/conda/lib/python3.10/site-packages (from scikit-learn>=0.22->scikit-learn-intelex) (3.1.0)\r\n"
     ]
    }
   ],
   "source": [
    "!pip install scikit-learn-intelex"
   ]
  },
  {
   "cell_type": "code",
   "execution_count": 2,
   "id": "6f5d1afd",
   "metadata": {
    "execution": {
     "iopub.execute_input": "2023-07-16T18:43:17.659866Z",
     "iopub.status.busy": "2023-07-16T18:43:17.659009Z",
     "iopub.status.idle": "2023-07-16T18:43:19.998417Z",
     "shell.execute_reply": "2023-07-16T18:43:19.997118Z"
    },
    "papermill": {
     "duration": 2.361116,
     "end_time": "2023-07-16T18:43:20.000911",
     "exception": false,
     "start_time": "2023-07-16T18:43:17.639795",
     "status": "completed"
    },
    "tags": []
   },
   "outputs": [
    {
     "name": "stderr",
     "output_type": "stream",
     "text": [
      "/opt/conda/lib/python3.10/site-packages/scipy/__init__.py:146: UserWarning: A NumPy version >=1.16.5 and <1.23.0 is required for this version of SciPy (detected version 1.23.5\n",
      "  warnings.warn(f\"A NumPy version >={np_minversion} and <{np_maxversion}\"\n",
      "Intel(R) Extension for Scikit-learn* enabled (https://github.com/intel/scikit-learn-intelex)\n"
     ]
    }
   ],
   "source": [
    "from sklearnex import patch_sklearn\n",
    "patch_sklearn()"
   ]
  },
  {
   "cell_type": "markdown",
   "id": "87bdddf6",
   "metadata": {
    "papermill": {
     "duration": 0.017175,
     "end_time": "2023-07-16T18:43:20.036105",
     "exception": false,
     "start_time": "2023-07-16T18:43:20.018930",
     "status": "completed"
    },
    "tags": []
   },
   "source": [
    "<div style=\"border-width:1; border-radius: 15px; border-style: solid; border-color: rgb(10, 10, 10); background-color: #9370D8; text-align: center;font: 14pt 'Candara';font-weight:bold;\"><h1>Reading data</h1></div>"
   ]
  },
  {
   "cell_type": "code",
   "execution_count": 3,
   "id": "aecdae9b",
   "metadata": {
    "execution": {
     "iopub.execute_input": "2023-07-16T18:43:20.073157Z",
     "iopub.status.busy": "2023-07-16T18:43:20.072745Z",
     "iopub.status.idle": "2023-07-16T18:43:20.554691Z",
     "shell.execute_reply": "2023-07-16T18:43:20.553235Z"
    },
    "papermill": {
     "duration": 0.503556,
     "end_time": "2023-07-16T18:43:20.557318",
     "exception": false,
     "start_time": "2023-07-16T18:43:20.053762",
     "status": "completed"
    },
    "tags": []
   },
   "outputs": [
    {
     "name": "stdout",
     "output_type": "stream",
     "text": [
      "/kaggle/input/airline-passenger-satisfaction/train.csv\n",
      "/kaggle/input/airline-passenger-satisfaction/test.csv\n"
     ]
    }
   ],
   "source": [
    "# This Python 3 environment comes with many helpful analytics libraries installed\n",
    "# It is defined by the kaggle/python Docker image: https://github.com/kaggle/docker-python\n",
    "# For example, here's several helpful packages to load\n",
    "\n",
    "import numpy as np # linear algebra\n",
    "import pandas as pd # data processing, CSV file I/O (e.g. pd.read_csv)\n",
    "import matplotlib.pyplot as plt\n",
    "import seaborn as sns\n",
    "import sklearn\n",
    "from sklearn.neighbors import KNeighborsClassifier\n",
    "from sklearn.model_selection import GridSearchCV\n",
    "from sklearn.svm import SVC\n",
    "from sklearn import ensemble\n",
    "from sklearn.neural_network import MLPClassifier\n",
    "from sklearn.metrics import accuracy_score\n",
    "import warnings\n",
    "warnings.filterwarnings(\"ignore\")\n",
    "%matplotlib inline\n",
    "\n",
    "# Input data files are available in the read-only \"../input/\" directory\n",
    "# For example, running this (by clicking run or pressing Shift+Enter) will list all files under the input directory\n",
    "\n",
    "import os\n",
    "for dirname, _, filenames in os.walk('/kaggle/input'):\n",
    "    for filename in filenames:\n",
    "        print(os.path.join(dirname, filename))\n",
    "\n",
    "# You can write up to 20GB to the current directory (/kaggle/working/) that gets preserved as output when you create a version using \"Save & Run All\" \n",
    "# You can also write temporary files to /kaggle/temp/, but they won't be saved outside of the current session"
   ]
  },
  {
   "cell_type": "code",
   "execution_count": 4,
   "id": "c3b13e6d",
   "metadata": {
    "execution": {
     "iopub.execute_input": "2023-07-16T18:43:20.595963Z",
     "iopub.status.busy": "2023-07-16T18:43:20.594870Z",
     "iopub.status.idle": "2023-07-16T18:43:21.018903Z",
     "shell.execute_reply": "2023-07-16T18:43:21.017544Z"
    },
    "papermill": {
     "duration": 0.445686,
     "end_time": "2023-07-16T18:43:21.021551",
     "exception": false,
     "start_time": "2023-07-16T18:43:20.575865",
     "status": "completed"
    },
    "tags": []
   },
   "outputs": [],
   "source": [
    "data = pd.read_csv(\"/kaggle/input/airline-passenger-satisfaction/train.csv\")"
   ]
  },
  {
   "cell_type": "code",
   "execution_count": 5,
   "id": "82be0f64",
   "metadata": {
    "execution": {
     "iopub.execute_input": "2023-07-16T18:43:21.059945Z",
     "iopub.status.busy": "2023-07-16T18:43:21.059000Z",
     "iopub.status.idle": "2023-07-16T18:43:21.067294Z",
     "shell.execute_reply": "2023-07-16T18:43:21.066116Z"
    },
    "papermill": {
     "duration": 0.030228,
     "end_time": "2023-07-16T18:43:21.069820",
     "exception": false,
     "start_time": "2023-07-16T18:43:21.039592",
     "status": "completed"
    },
    "tags": []
   },
   "outputs": [
    {
     "data": {
      "text/plain": [
       "(103904, 25)"
      ]
     },
     "execution_count": 5,
     "metadata": {},
     "output_type": "execute_result"
    }
   ],
   "source": [
    "data.shape"
   ]
  },
  {
   "cell_type": "code",
   "execution_count": 6,
   "id": "fbb113d3",
   "metadata": {
    "execution": {
     "iopub.execute_input": "2023-07-16T18:43:21.108433Z",
     "iopub.status.busy": "2023-07-16T18:43:21.108022Z",
     "iopub.status.idle": "2023-07-16T18:43:21.143781Z",
     "shell.execute_reply": "2023-07-16T18:43:21.142726Z"
    },
    "papermill": {
     "duration": 0.057978,
     "end_time": "2023-07-16T18:43:21.146160",
     "exception": false,
     "start_time": "2023-07-16T18:43:21.088182",
     "status": "completed"
    },
    "tags": []
   },
   "outputs": [
    {
     "data": {
      "text/html": [
       "<div>\n",
       "<style scoped>\n",
       "    .dataframe tbody tr th:only-of-type {\n",
       "        vertical-align: middle;\n",
       "    }\n",
       "\n",
       "    .dataframe tbody tr th {\n",
       "        vertical-align: top;\n",
       "    }\n",
       "\n",
       "    .dataframe thead th {\n",
       "        text-align: right;\n",
       "    }\n",
       "</style>\n",
       "<table border=\"1\" class=\"dataframe\">\n",
       "  <thead>\n",
       "    <tr style=\"text-align: right;\">\n",
       "      <th></th>\n",
       "      <th>Unnamed: 0</th>\n",
       "      <th>id</th>\n",
       "      <th>Gender</th>\n",
       "      <th>Customer Type</th>\n",
       "      <th>Age</th>\n",
       "      <th>Type of Travel</th>\n",
       "      <th>Class</th>\n",
       "      <th>Flight Distance</th>\n",
       "      <th>Inflight wifi service</th>\n",
       "      <th>Departure/Arrival time convenient</th>\n",
       "      <th>...</th>\n",
       "      <th>Inflight entertainment</th>\n",
       "      <th>On-board service</th>\n",
       "      <th>Leg room service</th>\n",
       "      <th>Baggage handling</th>\n",
       "      <th>Checkin service</th>\n",
       "      <th>Inflight service</th>\n",
       "      <th>Cleanliness</th>\n",
       "      <th>Departure Delay in Minutes</th>\n",
       "      <th>Arrival Delay in Minutes</th>\n",
       "      <th>satisfaction</th>\n",
       "    </tr>\n",
       "  </thead>\n",
       "  <tbody>\n",
       "    <tr>\n",
       "      <th>0</th>\n",
       "      <td>0</td>\n",
       "      <td>70172</td>\n",
       "      <td>Male</td>\n",
       "      <td>Loyal Customer</td>\n",
       "      <td>13</td>\n",
       "      <td>Personal Travel</td>\n",
       "      <td>Eco Plus</td>\n",
       "      <td>460</td>\n",
       "      <td>3</td>\n",
       "      <td>4</td>\n",
       "      <td>...</td>\n",
       "      <td>5</td>\n",
       "      <td>4</td>\n",
       "      <td>3</td>\n",
       "      <td>4</td>\n",
       "      <td>4</td>\n",
       "      <td>5</td>\n",
       "      <td>5</td>\n",
       "      <td>25</td>\n",
       "      <td>18.0</td>\n",
       "      <td>neutral or dissatisfied</td>\n",
       "    </tr>\n",
       "    <tr>\n",
       "      <th>1</th>\n",
       "      <td>1</td>\n",
       "      <td>5047</td>\n",
       "      <td>Male</td>\n",
       "      <td>disloyal Customer</td>\n",
       "      <td>25</td>\n",
       "      <td>Business travel</td>\n",
       "      <td>Business</td>\n",
       "      <td>235</td>\n",
       "      <td>3</td>\n",
       "      <td>2</td>\n",
       "      <td>...</td>\n",
       "      <td>1</td>\n",
       "      <td>1</td>\n",
       "      <td>5</td>\n",
       "      <td>3</td>\n",
       "      <td>1</td>\n",
       "      <td>4</td>\n",
       "      <td>1</td>\n",
       "      <td>1</td>\n",
       "      <td>6.0</td>\n",
       "      <td>neutral or dissatisfied</td>\n",
       "    </tr>\n",
       "    <tr>\n",
       "      <th>2</th>\n",
       "      <td>2</td>\n",
       "      <td>110028</td>\n",
       "      <td>Female</td>\n",
       "      <td>Loyal Customer</td>\n",
       "      <td>26</td>\n",
       "      <td>Business travel</td>\n",
       "      <td>Business</td>\n",
       "      <td>1142</td>\n",
       "      <td>2</td>\n",
       "      <td>2</td>\n",
       "      <td>...</td>\n",
       "      <td>5</td>\n",
       "      <td>4</td>\n",
       "      <td>3</td>\n",
       "      <td>4</td>\n",
       "      <td>4</td>\n",
       "      <td>4</td>\n",
       "      <td>5</td>\n",
       "      <td>0</td>\n",
       "      <td>0.0</td>\n",
       "      <td>satisfied</td>\n",
       "    </tr>\n",
       "    <tr>\n",
       "      <th>3</th>\n",
       "      <td>3</td>\n",
       "      <td>24026</td>\n",
       "      <td>Female</td>\n",
       "      <td>Loyal Customer</td>\n",
       "      <td>25</td>\n",
       "      <td>Business travel</td>\n",
       "      <td>Business</td>\n",
       "      <td>562</td>\n",
       "      <td>2</td>\n",
       "      <td>5</td>\n",
       "      <td>...</td>\n",
       "      <td>2</td>\n",
       "      <td>2</td>\n",
       "      <td>5</td>\n",
       "      <td>3</td>\n",
       "      <td>1</td>\n",
       "      <td>4</td>\n",
       "      <td>2</td>\n",
       "      <td>11</td>\n",
       "      <td>9.0</td>\n",
       "      <td>neutral or dissatisfied</td>\n",
       "    </tr>\n",
       "    <tr>\n",
       "      <th>4</th>\n",
       "      <td>4</td>\n",
       "      <td>119299</td>\n",
       "      <td>Male</td>\n",
       "      <td>Loyal Customer</td>\n",
       "      <td>61</td>\n",
       "      <td>Business travel</td>\n",
       "      <td>Business</td>\n",
       "      <td>214</td>\n",
       "      <td>3</td>\n",
       "      <td>3</td>\n",
       "      <td>...</td>\n",
       "      <td>3</td>\n",
       "      <td>3</td>\n",
       "      <td>4</td>\n",
       "      <td>4</td>\n",
       "      <td>3</td>\n",
       "      <td>3</td>\n",
       "      <td>3</td>\n",
       "      <td>0</td>\n",
       "      <td>0.0</td>\n",
       "      <td>satisfied</td>\n",
       "    </tr>\n",
       "  </tbody>\n",
       "</table>\n",
       "<p>5 rows × 25 columns</p>\n",
       "</div>"
      ],
      "text/plain": [
       "   Unnamed: 0      id  Gender      Customer Type  Age   Type of Travel  \\\n",
       "0           0   70172    Male     Loyal Customer   13  Personal Travel   \n",
       "1           1    5047    Male  disloyal Customer   25  Business travel   \n",
       "2           2  110028  Female     Loyal Customer   26  Business travel   \n",
       "3           3   24026  Female     Loyal Customer   25  Business travel   \n",
       "4           4  119299    Male     Loyal Customer   61  Business travel   \n",
       "\n",
       "      Class  Flight Distance  Inflight wifi service  \\\n",
       "0  Eco Plus              460                      3   \n",
       "1  Business              235                      3   \n",
       "2  Business             1142                      2   \n",
       "3  Business              562                      2   \n",
       "4  Business              214                      3   \n",
       "\n",
       "   Departure/Arrival time convenient  ...  Inflight entertainment  \\\n",
       "0                                  4  ...                       5   \n",
       "1                                  2  ...                       1   \n",
       "2                                  2  ...                       5   \n",
       "3                                  5  ...                       2   \n",
       "4                                  3  ...                       3   \n",
       "\n",
       "   On-board service  Leg room service  Baggage handling  Checkin service  \\\n",
       "0                 4                 3                 4                4   \n",
       "1                 1                 5                 3                1   \n",
       "2                 4                 3                 4                4   \n",
       "3                 2                 5                 3                1   \n",
       "4                 3                 4                 4                3   \n",
       "\n",
       "   Inflight service  Cleanliness  Departure Delay in Minutes  \\\n",
       "0                 5            5                          25   \n",
       "1                 4            1                           1   \n",
       "2                 4            5                           0   \n",
       "3                 4            2                          11   \n",
       "4                 3            3                           0   \n",
       "\n",
       "   Arrival Delay in Minutes             satisfaction  \n",
       "0                      18.0  neutral or dissatisfied  \n",
       "1                       6.0  neutral or dissatisfied  \n",
       "2                       0.0                satisfied  \n",
       "3                       9.0  neutral or dissatisfied  \n",
       "4                       0.0                satisfied  \n",
       "\n",
       "[5 rows x 25 columns]"
      ]
     },
     "execution_count": 6,
     "metadata": {},
     "output_type": "execute_result"
    }
   ],
   "source": [
    "data.head()"
   ]
  },
  {
   "cell_type": "code",
   "execution_count": 7,
   "id": "06095420",
   "metadata": {
    "execution": {
     "iopub.execute_input": "2023-07-16T18:43:21.186346Z",
     "iopub.status.busy": "2023-07-16T18:43:21.185934Z",
     "iopub.status.idle": "2023-07-16T18:43:21.213085Z",
     "shell.execute_reply": "2023-07-16T18:43:21.211967Z"
    },
    "papermill": {
     "duration": 0.050425,
     "end_time": "2023-07-16T18:43:21.215502",
     "exception": false,
     "start_time": "2023-07-16T18:43:21.165077",
     "status": "completed"
    },
    "tags": []
   },
   "outputs": [
    {
     "data": {
      "text/html": [
       "<div>\n",
       "<style scoped>\n",
       "    .dataframe tbody tr th:only-of-type {\n",
       "        vertical-align: middle;\n",
       "    }\n",
       "\n",
       "    .dataframe tbody tr th {\n",
       "        vertical-align: top;\n",
       "    }\n",
       "\n",
       "    .dataframe thead th {\n",
       "        text-align: right;\n",
       "    }\n",
       "</style>\n",
       "<table border=\"1\" class=\"dataframe\">\n",
       "  <thead>\n",
       "    <tr style=\"text-align: right;\">\n",
       "      <th></th>\n",
       "      <th>Unnamed: 0</th>\n",
       "      <th>id</th>\n",
       "      <th>Gender</th>\n",
       "      <th>Customer Type</th>\n",
       "      <th>Age</th>\n",
       "      <th>Type of Travel</th>\n",
       "      <th>Class</th>\n",
       "      <th>Flight Distance</th>\n",
       "      <th>Inflight wifi service</th>\n",
       "      <th>Departure/Arrival time convenient</th>\n",
       "      <th>...</th>\n",
       "      <th>Inflight entertainment</th>\n",
       "      <th>On-board service</th>\n",
       "      <th>Leg room service</th>\n",
       "      <th>Baggage handling</th>\n",
       "      <th>Checkin service</th>\n",
       "      <th>Inflight service</th>\n",
       "      <th>Cleanliness</th>\n",
       "      <th>Departure Delay in Minutes</th>\n",
       "      <th>Arrival Delay in Minutes</th>\n",
       "      <th>satisfaction</th>\n",
       "    </tr>\n",
       "  </thead>\n",
       "  <tbody>\n",
       "    <tr>\n",
       "      <th>86327</th>\n",
       "      <td>86327</td>\n",
       "      <td>62221</td>\n",
       "      <td>Female</td>\n",
       "      <td>Loyal Customer</td>\n",
       "      <td>22</td>\n",
       "      <td>Personal Travel</td>\n",
       "      <td>Eco</td>\n",
       "      <td>2565</td>\n",
       "      <td>3</td>\n",
       "      <td>3</td>\n",
       "      <td>...</td>\n",
       "      <td>4</td>\n",
       "      <td>3</td>\n",
       "      <td>1</td>\n",
       "      <td>4</td>\n",
       "      <td>1</td>\n",
       "      <td>2</td>\n",
       "      <td>4</td>\n",
       "      <td>0</td>\n",
       "      <td>0.0</td>\n",
       "      <td>neutral or dissatisfied</td>\n",
       "    </tr>\n",
       "    <tr>\n",
       "      <th>48484</th>\n",
       "      <td>48484</td>\n",
       "      <td>43341</td>\n",
       "      <td>Male</td>\n",
       "      <td>Loyal Customer</td>\n",
       "      <td>23</td>\n",
       "      <td>Business travel</td>\n",
       "      <td>Business</td>\n",
       "      <td>3402</td>\n",
       "      <td>4</td>\n",
       "      <td>4</td>\n",
       "      <td>...</td>\n",
       "      <td>4</td>\n",
       "      <td>5</td>\n",
       "      <td>2</td>\n",
       "      <td>5</td>\n",
       "      <td>4</td>\n",
       "      <td>2</td>\n",
       "      <td>4</td>\n",
       "      <td>0</td>\n",
       "      <td>0.0</td>\n",
       "      <td>satisfied</td>\n",
       "    </tr>\n",
       "    <tr>\n",
       "      <th>82772</th>\n",
       "      <td>82772</td>\n",
       "      <td>38960</td>\n",
       "      <td>Male</td>\n",
       "      <td>disloyal Customer</td>\n",
       "      <td>27</td>\n",
       "      <td>Business travel</td>\n",
       "      <td>Business</td>\n",
       "      <td>313</td>\n",
       "      <td>2</td>\n",
       "      <td>2</td>\n",
       "      <td>...</td>\n",
       "      <td>1</td>\n",
       "      <td>3</td>\n",
       "      <td>3</td>\n",
       "      <td>3</td>\n",
       "      <td>1</td>\n",
       "      <td>4</td>\n",
       "      <td>1</td>\n",
       "      <td>40</td>\n",
       "      <td>13.0</td>\n",
       "      <td>neutral or dissatisfied</td>\n",
       "    </tr>\n",
       "    <tr>\n",
       "      <th>57750</th>\n",
       "      <td>57750</td>\n",
       "      <td>70691</td>\n",
       "      <td>Male</td>\n",
       "      <td>Loyal Customer</td>\n",
       "      <td>24</td>\n",
       "      <td>Personal Travel</td>\n",
       "      <td>Eco</td>\n",
       "      <td>447</td>\n",
       "      <td>2</td>\n",
       "      <td>4</td>\n",
       "      <td>...</td>\n",
       "      <td>4</td>\n",
       "      <td>2</td>\n",
       "      <td>2</td>\n",
       "      <td>3</td>\n",
       "      <td>1</td>\n",
       "      <td>3</td>\n",
       "      <td>4</td>\n",
       "      <td>0</td>\n",
       "      <td>26.0</td>\n",
       "      <td>neutral or dissatisfied</td>\n",
       "    </tr>\n",
       "    <tr>\n",
       "      <th>82941</th>\n",
       "      <td>82941</td>\n",
       "      <td>122207</td>\n",
       "      <td>Female</td>\n",
       "      <td>Loyal Customer</td>\n",
       "      <td>55</td>\n",
       "      <td>Business travel</td>\n",
       "      <td>Business</td>\n",
       "      <td>544</td>\n",
       "      <td>4</td>\n",
       "      <td>4</td>\n",
       "      <td>...</td>\n",
       "      <td>5</td>\n",
       "      <td>5</td>\n",
       "      <td>4</td>\n",
       "      <td>5</td>\n",
       "      <td>3</td>\n",
       "      <td>5</td>\n",
       "      <td>4</td>\n",
       "      <td>71</td>\n",
       "      <td>84.0</td>\n",
       "      <td>satisfied</td>\n",
       "    </tr>\n",
       "    <tr>\n",
       "      <th>67712</th>\n",
       "      <td>67712</td>\n",
       "      <td>99278</td>\n",
       "      <td>Male</td>\n",
       "      <td>Loyal Customer</td>\n",
       "      <td>35</td>\n",
       "      <td>Business travel</td>\n",
       "      <td>Business</td>\n",
       "      <td>833</td>\n",
       "      <td>4</td>\n",
       "      <td>4</td>\n",
       "      <td>...</td>\n",
       "      <td>4</td>\n",
       "      <td>4</td>\n",
       "      <td>4</td>\n",
       "      <td>4</td>\n",
       "      <td>3</td>\n",
       "      <td>4</td>\n",
       "      <td>4</td>\n",
       "      <td>0</td>\n",
       "      <td>0.0</td>\n",
       "      <td>satisfied</td>\n",
       "    </tr>\n",
       "    <tr>\n",
       "      <th>18756</th>\n",
       "      <td>18756</td>\n",
       "      <td>68018</td>\n",
       "      <td>Female</td>\n",
       "      <td>Loyal Customer</td>\n",
       "      <td>61</td>\n",
       "      <td>Business travel</td>\n",
       "      <td>Eco</td>\n",
       "      <td>304</td>\n",
       "      <td>4</td>\n",
       "      <td>4</td>\n",
       "      <td>...</td>\n",
       "      <td>5</td>\n",
       "      <td>5</td>\n",
       "      <td>4</td>\n",
       "      <td>5</td>\n",
       "      <td>1</td>\n",
       "      <td>5</td>\n",
       "      <td>2</td>\n",
       "      <td>0</td>\n",
       "      <td>0.0</td>\n",
       "      <td>satisfied</td>\n",
       "    </tr>\n",
       "    <tr>\n",
       "      <th>23093</th>\n",
       "      <td>23093</td>\n",
       "      <td>11320</td>\n",
       "      <td>Female</td>\n",
       "      <td>Loyal Customer</td>\n",
       "      <td>32</td>\n",
       "      <td>Personal Travel</td>\n",
       "      <td>Eco</td>\n",
       "      <td>316</td>\n",
       "      <td>2</td>\n",
       "      <td>4</td>\n",
       "      <td>...</td>\n",
       "      <td>2</td>\n",
       "      <td>1</td>\n",
       "      <td>1</td>\n",
       "      <td>4</td>\n",
       "      <td>4</td>\n",
       "      <td>3</td>\n",
       "      <td>2</td>\n",
       "      <td>0</td>\n",
       "      <td>0.0</td>\n",
       "      <td>neutral or dissatisfied</td>\n",
       "    </tr>\n",
       "    <tr>\n",
       "      <th>99196</th>\n",
       "      <td>99196</td>\n",
       "      <td>71962</td>\n",
       "      <td>Male</td>\n",
       "      <td>disloyal Customer</td>\n",
       "      <td>25</td>\n",
       "      <td>Business travel</td>\n",
       "      <td>Business</td>\n",
       "      <td>1440</td>\n",
       "      <td>5</td>\n",
       "      <td>0</td>\n",
       "      <td>...</td>\n",
       "      <td>4</td>\n",
       "      <td>3</td>\n",
       "      <td>5</td>\n",
       "      <td>4</td>\n",
       "      <td>4</td>\n",
       "      <td>5</td>\n",
       "      <td>4</td>\n",
       "      <td>0</td>\n",
       "      <td>2.0</td>\n",
       "      <td>satisfied</td>\n",
       "    </tr>\n",
       "    <tr>\n",
       "      <th>4554</th>\n",
       "      <td>4554</td>\n",
       "      <td>18323</td>\n",
       "      <td>Female</td>\n",
       "      <td>Loyal Customer</td>\n",
       "      <td>36</td>\n",
       "      <td>Personal Travel</td>\n",
       "      <td>Eco</td>\n",
       "      <td>715</td>\n",
       "      <td>1</td>\n",
       "      <td>5</td>\n",
       "      <td>...</td>\n",
       "      <td>5</td>\n",
       "      <td>4</td>\n",
       "      <td>5</td>\n",
       "      <td>3</td>\n",
       "      <td>2</td>\n",
       "      <td>4</td>\n",
       "      <td>5</td>\n",
       "      <td>114</td>\n",
       "      <td>103.0</td>\n",
       "      <td>neutral or dissatisfied</td>\n",
       "    </tr>\n",
       "  </tbody>\n",
       "</table>\n",
       "<p>10 rows × 25 columns</p>\n",
       "</div>"
      ],
      "text/plain": [
       "       Unnamed: 0      id  Gender      Customer Type  Age   Type of Travel  \\\n",
       "86327       86327   62221  Female     Loyal Customer   22  Personal Travel   \n",
       "48484       48484   43341    Male     Loyal Customer   23  Business travel   \n",
       "82772       82772   38960    Male  disloyal Customer   27  Business travel   \n",
       "57750       57750   70691    Male     Loyal Customer   24  Personal Travel   \n",
       "82941       82941  122207  Female     Loyal Customer   55  Business travel   \n",
       "67712       67712   99278    Male     Loyal Customer   35  Business travel   \n",
       "18756       18756   68018  Female     Loyal Customer   61  Business travel   \n",
       "23093       23093   11320  Female     Loyal Customer   32  Personal Travel   \n",
       "99196       99196   71962    Male  disloyal Customer   25  Business travel   \n",
       "4554         4554   18323  Female     Loyal Customer   36  Personal Travel   \n",
       "\n",
       "          Class  Flight Distance  Inflight wifi service  \\\n",
       "86327       Eco             2565                      3   \n",
       "48484  Business             3402                      4   \n",
       "82772  Business              313                      2   \n",
       "57750       Eco              447                      2   \n",
       "82941  Business              544                      4   \n",
       "67712  Business              833                      4   \n",
       "18756       Eco              304                      4   \n",
       "23093       Eco              316                      2   \n",
       "99196  Business             1440                      5   \n",
       "4554        Eco              715                      1   \n",
       "\n",
       "       Departure/Arrival time convenient  ...  Inflight entertainment  \\\n",
       "86327                                  3  ...                       4   \n",
       "48484                                  4  ...                       4   \n",
       "82772                                  2  ...                       1   \n",
       "57750                                  4  ...                       4   \n",
       "82941                                  4  ...                       5   \n",
       "67712                                  4  ...                       4   \n",
       "18756                                  4  ...                       5   \n",
       "23093                                  4  ...                       2   \n",
       "99196                                  0  ...                       4   \n",
       "4554                                   5  ...                       5   \n",
       "\n",
       "       On-board service  Leg room service  Baggage handling  Checkin service  \\\n",
       "86327                 3                 1                 4                1   \n",
       "48484                 5                 2                 5                4   \n",
       "82772                 3                 3                 3                1   \n",
       "57750                 2                 2                 3                1   \n",
       "82941                 5                 4                 5                3   \n",
       "67712                 4                 4                 4                3   \n",
       "18756                 5                 4                 5                1   \n",
       "23093                 1                 1                 4                4   \n",
       "99196                 3                 5                 4                4   \n",
       "4554                  4                 5                 3                2   \n",
       "\n",
       "       Inflight service  Cleanliness  Departure Delay in Minutes  \\\n",
       "86327                 2            4                           0   \n",
       "48484                 2            4                           0   \n",
       "82772                 4            1                          40   \n",
       "57750                 3            4                           0   \n",
       "82941                 5            4                          71   \n",
       "67712                 4            4                           0   \n",
       "18756                 5            2                           0   \n",
       "23093                 3            2                           0   \n",
       "99196                 5            4                           0   \n",
       "4554                  4            5                         114   \n",
       "\n",
       "       Arrival Delay in Minutes             satisfaction  \n",
       "86327                       0.0  neutral or dissatisfied  \n",
       "48484                       0.0                satisfied  \n",
       "82772                      13.0  neutral or dissatisfied  \n",
       "57750                      26.0  neutral or dissatisfied  \n",
       "82941                      84.0                satisfied  \n",
       "67712                       0.0                satisfied  \n",
       "18756                       0.0                satisfied  \n",
       "23093                       0.0  neutral or dissatisfied  \n",
       "99196                       2.0                satisfied  \n",
       "4554                      103.0  neutral or dissatisfied  \n",
       "\n",
       "[10 rows x 25 columns]"
      ]
     },
     "execution_count": 7,
     "metadata": {},
     "output_type": "execute_result"
    }
   ],
   "source": [
    "data.sample(10)"
   ]
  },
  {
   "cell_type": "code",
   "execution_count": 8,
   "id": "d298f92d",
   "metadata": {
    "execution": {
     "iopub.execute_input": "2023-07-16T18:43:21.257878Z",
     "iopub.status.busy": "2023-07-16T18:43:21.257489Z",
     "iopub.status.idle": "2023-07-16T18:43:21.277501Z",
     "shell.execute_reply": "2023-07-16T18:43:21.276441Z"
    },
    "papermill": {
     "duration": 0.044717,
     "end_time": "2023-07-16T18:43:21.279837",
     "exception": false,
     "start_time": "2023-07-16T18:43:21.235120",
     "status": "completed"
    },
    "tags": []
   },
   "outputs": [
    {
     "data": {
      "text/html": [
       "<div>\n",
       "<style scoped>\n",
       "    .dataframe tbody tr th:only-of-type {\n",
       "        vertical-align: middle;\n",
       "    }\n",
       "\n",
       "    .dataframe tbody tr th {\n",
       "        vertical-align: top;\n",
       "    }\n",
       "\n",
       "    .dataframe thead th {\n",
       "        text-align: right;\n",
       "    }\n",
       "</style>\n",
       "<table border=\"1\" class=\"dataframe\">\n",
       "  <thead>\n",
       "    <tr style=\"text-align: right;\">\n",
       "      <th></th>\n",
       "      <th>Unnamed: 0</th>\n",
       "      <th>id</th>\n",
       "      <th>Gender</th>\n",
       "      <th>Customer Type</th>\n",
       "      <th>Age</th>\n",
       "      <th>Type of Travel</th>\n",
       "      <th>Class</th>\n",
       "      <th>Flight Distance</th>\n",
       "      <th>Inflight wifi service</th>\n",
       "      <th>Departure/Arrival time convenient</th>\n",
       "      <th>...</th>\n",
       "      <th>Inflight entertainment</th>\n",
       "      <th>On-board service</th>\n",
       "      <th>Leg room service</th>\n",
       "      <th>Baggage handling</th>\n",
       "      <th>Checkin service</th>\n",
       "      <th>Inflight service</th>\n",
       "      <th>Cleanliness</th>\n",
       "      <th>Departure Delay in Minutes</th>\n",
       "      <th>Arrival Delay in Minutes</th>\n",
       "      <th>satisfaction</th>\n",
       "    </tr>\n",
       "  </thead>\n",
       "  <tbody>\n",
       "    <tr>\n",
       "      <th>103899</th>\n",
       "      <td>103899</td>\n",
       "      <td>94171</td>\n",
       "      <td>Female</td>\n",
       "      <td>disloyal Customer</td>\n",
       "      <td>23</td>\n",
       "      <td>Business travel</td>\n",
       "      <td>Eco</td>\n",
       "      <td>192</td>\n",
       "      <td>2</td>\n",
       "      <td>1</td>\n",
       "      <td>...</td>\n",
       "      <td>2</td>\n",
       "      <td>3</td>\n",
       "      <td>1</td>\n",
       "      <td>4</td>\n",
       "      <td>2</td>\n",
       "      <td>3</td>\n",
       "      <td>2</td>\n",
       "      <td>3</td>\n",
       "      <td>0.0</td>\n",
       "      <td>neutral or dissatisfied</td>\n",
       "    </tr>\n",
       "    <tr>\n",
       "      <th>103900</th>\n",
       "      <td>103900</td>\n",
       "      <td>73097</td>\n",
       "      <td>Male</td>\n",
       "      <td>Loyal Customer</td>\n",
       "      <td>49</td>\n",
       "      <td>Business travel</td>\n",
       "      <td>Business</td>\n",
       "      <td>2347</td>\n",
       "      <td>4</td>\n",
       "      <td>4</td>\n",
       "      <td>...</td>\n",
       "      <td>5</td>\n",
       "      <td>5</td>\n",
       "      <td>5</td>\n",
       "      <td>5</td>\n",
       "      <td>5</td>\n",
       "      <td>5</td>\n",
       "      <td>4</td>\n",
       "      <td>0</td>\n",
       "      <td>0.0</td>\n",
       "      <td>satisfied</td>\n",
       "    </tr>\n",
       "    <tr>\n",
       "      <th>103901</th>\n",
       "      <td>103901</td>\n",
       "      <td>68825</td>\n",
       "      <td>Male</td>\n",
       "      <td>disloyal Customer</td>\n",
       "      <td>30</td>\n",
       "      <td>Business travel</td>\n",
       "      <td>Business</td>\n",
       "      <td>1995</td>\n",
       "      <td>1</td>\n",
       "      <td>1</td>\n",
       "      <td>...</td>\n",
       "      <td>4</td>\n",
       "      <td>3</td>\n",
       "      <td>2</td>\n",
       "      <td>4</td>\n",
       "      <td>5</td>\n",
       "      <td>5</td>\n",
       "      <td>4</td>\n",
       "      <td>7</td>\n",
       "      <td>14.0</td>\n",
       "      <td>neutral or dissatisfied</td>\n",
       "    </tr>\n",
       "    <tr>\n",
       "      <th>103902</th>\n",
       "      <td>103902</td>\n",
       "      <td>54173</td>\n",
       "      <td>Female</td>\n",
       "      <td>disloyal Customer</td>\n",
       "      <td>22</td>\n",
       "      <td>Business travel</td>\n",
       "      <td>Eco</td>\n",
       "      <td>1000</td>\n",
       "      <td>1</td>\n",
       "      <td>1</td>\n",
       "      <td>...</td>\n",
       "      <td>1</td>\n",
       "      <td>4</td>\n",
       "      <td>5</td>\n",
       "      <td>1</td>\n",
       "      <td>5</td>\n",
       "      <td>4</td>\n",
       "      <td>1</td>\n",
       "      <td>0</td>\n",
       "      <td>0.0</td>\n",
       "      <td>neutral or dissatisfied</td>\n",
       "    </tr>\n",
       "    <tr>\n",
       "      <th>103903</th>\n",
       "      <td>103903</td>\n",
       "      <td>62567</td>\n",
       "      <td>Male</td>\n",
       "      <td>Loyal Customer</td>\n",
       "      <td>27</td>\n",
       "      <td>Business travel</td>\n",
       "      <td>Business</td>\n",
       "      <td>1723</td>\n",
       "      <td>1</td>\n",
       "      <td>3</td>\n",
       "      <td>...</td>\n",
       "      <td>1</td>\n",
       "      <td>1</td>\n",
       "      <td>1</td>\n",
       "      <td>4</td>\n",
       "      <td>4</td>\n",
       "      <td>3</td>\n",
       "      <td>1</td>\n",
       "      <td>0</td>\n",
       "      <td>0.0</td>\n",
       "      <td>neutral or dissatisfied</td>\n",
       "    </tr>\n",
       "  </tbody>\n",
       "</table>\n",
       "<p>5 rows × 25 columns</p>\n",
       "</div>"
      ],
      "text/plain": [
       "        Unnamed: 0     id  Gender      Customer Type  Age   Type of Travel  \\\n",
       "103899      103899  94171  Female  disloyal Customer   23  Business travel   \n",
       "103900      103900  73097    Male     Loyal Customer   49  Business travel   \n",
       "103901      103901  68825    Male  disloyal Customer   30  Business travel   \n",
       "103902      103902  54173  Female  disloyal Customer   22  Business travel   \n",
       "103903      103903  62567    Male     Loyal Customer   27  Business travel   \n",
       "\n",
       "           Class  Flight Distance  Inflight wifi service  \\\n",
       "103899       Eco              192                      2   \n",
       "103900  Business             2347                      4   \n",
       "103901  Business             1995                      1   \n",
       "103902       Eco             1000                      1   \n",
       "103903  Business             1723                      1   \n",
       "\n",
       "        Departure/Arrival time convenient  ...  Inflight entertainment  \\\n",
       "103899                                  1  ...                       2   \n",
       "103900                                  4  ...                       5   \n",
       "103901                                  1  ...                       4   \n",
       "103902                                  1  ...                       1   \n",
       "103903                                  3  ...                       1   \n",
       "\n",
       "        On-board service  Leg room service  Baggage handling  Checkin service  \\\n",
       "103899                 3                 1                 4                2   \n",
       "103900                 5                 5                 5                5   \n",
       "103901                 3                 2                 4                5   \n",
       "103902                 4                 5                 1                5   \n",
       "103903                 1                 1                 4                4   \n",
       "\n",
       "        Inflight service  Cleanliness  Departure Delay in Minutes  \\\n",
       "103899                 3            2                           3   \n",
       "103900                 5            4                           0   \n",
       "103901                 5            4                           7   \n",
       "103902                 4            1                           0   \n",
       "103903                 3            1                           0   \n",
       "\n",
       "        Arrival Delay in Minutes             satisfaction  \n",
       "103899                       0.0  neutral or dissatisfied  \n",
       "103900                       0.0                satisfied  \n",
       "103901                      14.0  neutral or dissatisfied  \n",
       "103902                       0.0  neutral or dissatisfied  \n",
       "103903                       0.0  neutral or dissatisfied  \n",
       "\n",
       "[5 rows x 25 columns]"
      ]
     },
     "execution_count": 8,
     "metadata": {},
     "output_type": "execute_result"
    }
   ],
   "source": [
    "data.tail()"
   ]
  },
  {
   "cell_type": "code",
   "execution_count": 9,
   "id": "c4089c39",
   "metadata": {
    "execution": {
     "iopub.execute_input": "2023-07-16T18:43:21.321515Z",
     "iopub.status.busy": "2023-07-16T18:43:21.320874Z",
     "iopub.status.idle": "2023-07-16T18:43:21.423356Z",
     "shell.execute_reply": "2023-07-16T18:43:21.422171Z"
    },
    "papermill": {
     "duration": 0.126222,
     "end_time": "2023-07-16T18:43:21.425814",
     "exception": false,
     "start_time": "2023-07-16T18:43:21.299592",
     "status": "completed"
    },
    "tags": []
   },
   "outputs": [
    {
     "name": "stdout",
     "output_type": "stream",
     "text": [
      "<class 'pandas.core.frame.DataFrame'>\n",
      "RangeIndex: 103904 entries, 0 to 103903\n",
      "Data columns (total 25 columns):\n",
      " #   Column                             Non-Null Count   Dtype  \n",
      "---  ------                             --------------   -----  \n",
      " 0   Unnamed: 0                         103904 non-null  int64  \n",
      " 1   id                                 103904 non-null  int64  \n",
      " 2   Gender                             103904 non-null  object \n",
      " 3   Customer Type                      103904 non-null  object \n",
      " 4   Age                                103904 non-null  int64  \n",
      " 5   Type of Travel                     103904 non-null  object \n",
      " 6   Class                              103904 non-null  object \n",
      " 7   Flight Distance                    103904 non-null  int64  \n",
      " 8   Inflight wifi service              103904 non-null  int64  \n",
      " 9   Departure/Arrival time convenient  103904 non-null  int64  \n",
      " 10  Ease of Online booking             103904 non-null  int64  \n",
      " 11  Gate location                      103904 non-null  int64  \n",
      " 12  Food and drink                     103904 non-null  int64  \n",
      " 13  Online boarding                    103904 non-null  int64  \n",
      " 14  Seat comfort                       103904 non-null  int64  \n",
      " 15  Inflight entertainment             103904 non-null  int64  \n",
      " 16  On-board service                   103904 non-null  int64  \n",
      " 17  Leg room service                   103904 non-null  int64  \n",
      " 18  Baggage handling                   103904 non-null  int64  \n",
      " 19  Checkin service                    103904 non-null  int64  \n",
      " 20  Inflight service                   103904 non-null  int64  \n",
      " 21  Cleanliness                        103904 non-null  int64  \n",
      " 22  Departure Delay in Minutes         103904 non-null  int64  \n",
      " 23  Arrival Delay in Minutes           103594 non-null  float64\n",
      " 24  satisfaction                       103904 non-null  object \n",
      "dtypes: float64(1), int64(19), object(5)\n",
      "memory usage: 19.8+ MB\n"
     ]
    }
   ],
   "source": [
    "data.info()"
   ]
  },
  {
   "cell_type": "markdown",
   "id": "70c876f0",
   "metadata": {
    "papermill": {
     "duration": 0.018925,
     "end_time": "2023-07-16T18:43:21.464083",
     "exception": false,
     "start_time": "2023-07-16T18:43:21.445158",
     "status": "completed"
    },
    "tags": []
   },
   "source": [
    "## Sonuçların Yorumu\n",
    "\n",
    "* Arrival Delay in Minutes özelliğine karşılık gelen sütunda 310 eksik değer vardır. \n",
    "\n",
    "* İlk iki özellik işe yaramaz ve sınıflandırmayı etkilemeyecektir, bu nedenle bunlardan kurtulmalısınız.\n",
    "\n",
    "* Birçok sütun kategorik değerler içerir ancak 'object' veya 'int64' türündedir. Bu türü kategorik değerleri depolamak için tasarlanmış özel bir türle değiştirelim.  "
   ]
  },
  {
   "cell_type": "code",
   "execution_count": 10,
   "id": "faa98471",
   "metadata": {
    "execution": {
     "iopub.execute_input": "2023-07-16T18:43:21.504614Z",
     "iopub.status.busy": "2023-07-16T18:43:21.503974Z",
     "iopub.status.idle": "2023-07-16T18:43:21.518670Z",
     "shell.execute_reply": "2023-07-16T18:43:21.517700Z"
    },
    "papermill": {
     "duration": 0.037729,
     "end_time": "2023-07-16T18:43:21.521145",
     "exception": false,
     "start_time": "2023-07-16T18:43:21.483416",
     "status": "completed"
    },
    "tags": []
   },
   "outputs": [],
   "source": [
    "data = data.drop(data.iloc[:,[0,1]], axis = 1)"
   ]
  },
  {
   "cell_type": "code",
   "execution_count": 11,
   "id": "70158c61",
   "metadata": {
    "execution": {
     "iopub.execute_input": "2023-07-16T18:43:21.561758Z",
     "iopub.status.busy": "2023-07-16T18:43:21.561058Z",
     "iopub.status.idle": "2023-07-16T18:43:21.671412Z",
     "shell.execute_reply": "2023-07-16T18:43:21.670216Z"
    },
    "papermill": {
     "duration": 0.133731,
     "end_time": "2023-07-16T18:43:21.674045",
     "exception": false,
     "start_time": "2023-07-16T18:43:21.540314",
     "status": "completed"
    },
    "tags": []
   },
   "outputs": [],
   "source": [
    "categorical_indexes = [0,1,3,4] + list(range(6,20))\n",
    "data.iloc[:,categorical_indexes] = data.iloc[:,categorical_indexes].astype('category')"
   ]
  },
  {
   "cell_type": "code",
   "execution_count": 12,
   "id": "74b26aa4",
   "metadata": {
    "execution": {
     "iopub.execute_input": "2023-07-16T18:43:21.715015Z",
     "iopub.status.busy": "2023-07-16T18:43:21.714589Z",
     "iopub.status.idle": "2023-07-16T18:43:21.753437Z",
     "shell.execute_reply": "2023-07-16T18:43:21.752186Z"
    },
    "papermill": {
     "duration": 0.062024,
     "end_time": "2023-07-16T18:43:21.755832",
     "exception": false,
     "start_time": "2023-07-16T18:43:21.693808",
     "status": "completed"
    },
    "tags": []
   },
   "outputs": [
    {
     "name": "stdout",
     "output_type": "stream",
     "text": [
      "<class 'pandas.core.frame.DataFrame'>\n",
      "RangeIndex: 103904 entries, 0 to 103903\n",
      "Data columns (total 23 columns):\n",
      " #   Column                             Non-Null Count   Dtype   \n",
      "---  ------                             --------------   -----   \n",
      " 0   Gender                             103904 non-null  category\n",
      " 1   Customer Type                      103904 non-null  category\n",
      " 2   Age                                103904 non-null  int64   \n",
      " 3   Type of Travel                     103904 non-null  category\n",
      " 4   Class                              103904 non-null  category\n",
      " 5   Flight Distance                    103904 non-null  int64   \n",
      " 6   Inflight wifi service              103904 non-null  category\n",
      " 7   Departure/Arrival time convenient  103904 non-null  category\n",
      " 8   Ease of Online booking             103904 non-null  category\n",
      " 9   Gate location                      103904 non-null  category\n",
      " 10  Food and drink                     103904 non-null  category\n",
      " 11  Online boarding                    103904 non-null  category\n",
      " 12  Seat comfort                       103904 non-null  category\n",
      " 13  Inflight entertainment             103904 non-null  category\n",
      " 14  On-board service                   103904 non-null  category\n",
      " 15  Leg room service                   103904 non-null  category\n",
      " 16  Baggage handling                   103904 non-null  category\n",
      " 17  Checkin service                    103904 non-null  category\n",
      " 18  Inflight service                   103904 non-null  category\n",
      " 19  Cleanliness                        103904 non-null  category\n",
      " 20  Departure Delay in Minutes         103904 non-null  int64   \n",
      " 21  Arrival Delay in Minutes           103594 non-null  float64 \n",
      " 22  satisfaction                       103904 non-null  object  \n",
      "dtypes: category(18), float64(1), int64(3), object(1)\n",
      "memory usage: 5.8+ MB\n"
     ]
    }
   ],
   "source": [
    "data.info()"
   ]
  },
  {
   "cell_type": "markdown",
   "id": "6f0a656a",
   "metadata": {
    "papermill": {
     "duration": 0.019848,
     "end_time": "2023-07-16T18:43:21.795673",
     "exception": false,
     "start_time": "2023-07-16T18:43:21.775825",
     "status": "completed"
    },
    "tags": []
   },
   "source": [
    "Target = satisfaction"
   ]
  },
  {
   "cell_type": "code",
   "execution_count": 13,
   "id": "078f2894",
   "metadata": {
    "execution": {
     "iopub.execute_input": "2023-07-16T18:43:21.838278Z",
     "iopub.status.busy": "2023-07-16T18:43:21.837619Z",
     "iopub.status.idle": "2023-07-16T18:43:21.876467Z",
     "shell.execute_reply": "2023-07-16T18:43:21.875689Z"
    },
    "papermill": {
     "duration": 0.062327,
     "end_time": "2023-07-16T18:43:21.878664",
     "exception": false,
     "start_time": "2023-07-16T18:43:21.816337",
     "status": "completed"
    },
    "tags": []
   },
   "outputs": [
    {
     "data": {
      "text/html": [
       "<div>\n",
       "<style scoped>\n",
       "    .dataframe tbody tr th:only-of-type {\n",
       "        vertical-align: middle;\n",
       "    }\n",
       "\n",
       "    .dataframe tbody tr th {\n",
       "        vertical-align: top;\n",
       "    }\n",
       "\n",
       "    .dataframe thead th {\n",
       "        text-align: right;\n",
       "    }\n",
       "</style>\n",
       "<table border=\"1\" class=\"dataframe\">\n",
       "  <thead>\n",
       "    <tr style=\"text-align: right;\">\n",
       "      <th></th>\n",
       "      <th>Age</th>\n",
       "      <th>Flight Distance</th>\n",
       "      <th>Departure Delay in Minutes</th>\n",
       "      <th>Arrival Delay in Minutes</th>\n",
       "    </tr>\n",
       "  </thead>\n",
       "  <tbody>\n",
       "    <tr>\n",
       "      <th>count</th>\n",
       "      <td>103904.000000</td>\n",
       "      <td>103904.000000</td>\n",
       "      <td>103904.000000</td>\n",
       "      <td>103594.000000</td>\n",
       "    </tr>\n",
       "    <tr>\n",
       "      <th>mean</th>\n",
       "      <td>39.379706</td>\n",
       "      <td>1189.448375</td>\n",
       "      <td>14.815618</td>\n",
       "      <td>15.178678</td>\n",
       "    </tr>\n",
       "    <tr>\n",
       "      <th>std</th>\n",
       "      <td>15.114964</td>\n",
       "      <td>997.147281</td>\n",
       "      <td>38.230901</td>\n",
       "      <td>38.698682</td>\n",
       "    </tr>\n",
       "    <tr>\n",
       "      <th>min</th>\n",
       "      <td>7.000000</td>\n",
       "      <td>31.000000</td>\n",
       "      <td>0.000000</td>\n",
       "      <td>0.000000</td>\n",
       "    </tr>\n",
       "    <tr>\n",
       "      <th>25%</th>\n",
       "      <td>27.000000</td>\n",
       "      <td>414.000000</td>\n",
       "      <td>0.000000</td>\n",
       "      <td>0.000000</td>\n",
       "    </tr>\n",
       "    <tr>\n",
       "      <th>50%</th>\n",
       "      <td>40.000000</td>\n",
       "      <td>843.000000</td>\n",
       "      <td>0.000000</td>\n",
       "      <td>0.000000</td>\n",
       "    </tr>\n",
       "    <tr>\n",
       "      <th>75%</th>\n",
       "      <td>51.000000</td>\n",
       "      <td>1743.000000</td>\n",
       "      <td>12.000000</td>\n",
       "      <td>13.000000</td>\n",
       "    </tr>\n",
       "    <tr>\n",
       "      <th>max</th>\n",
       "      <td>85.000000</td>\n",
       "      <td>4983.000000</td>\n",
       "      <td>1592.000000</td>\n",
       "      <td>1584.000000</td>\n",
       "    </tr>\n",
       "  </tbody>\n",
       "</table>\n",
       "</div>"
      ],
      "text/plain": [
       "                 Age  Flight Distance  Departure Delay in Minutes  \\\n",
       "count  103904.000000    103904.000000               103904.000000   \n",
       "mean       39.379706      1189.448375                   14.815618   \n",
       "std        15.114964       997.147281                   38.230901   \n",
       "min         7.000000        31.000000                    0.000000   \n",
       "25%        27.000000       414.000000                    0.000000   \n",
       "50%        40.000000       843.000000                    0.000000   \n",
       "75%        51.000000      1743.000000                   12.000000   \n",
       "max        85.000000      4983.000000                 1592.000000   \n",
       "\n",
       "       Arrival Delay in Minutes  \n",
       "count             103594.000000  \n",
       "mean                  15.178678  \n",
       "std                   38.698682  \n",
       "min                    0.000000  \n",
       "25%                    0.000000  \n",
       "50%                    0.000000  \n",
       "75%                   13.000000  \n",
       "max                 1584.000000  "
      ]
     },
     "execution_count": 13,
     "metadata": {},
     "output_type": "execute_result"
    }
   ],
   "source": [
    "data.describe()"
   ]
  },
  {
   "cell_type": "code",
   "execution_count": 14,
   "id": "bd302624",
   "metadata": {
    "execution": {
     "iopub.execute_input": "2023-07-16T18:43:21.919881Z",
     "iopub.status.busy": "2023-07-16T18:43:21.919238Z",
     "iopub.status.idle": "2023-07-16T18:43:21.974297Z",
     "shell.execute_reply": "2023-07-16T18:43:21.973475Z"
    },
    "papermill": {
     "duration": 0.077971,
     "end_time": "2023-07-16T18:43:21.976313",
     "exception": false,
     "start_time": "2023-07-16T18:43:21.898342",
     "status": "completed"
    },
    "tags": []
   },
   "outputs": [
    {
     "data": {
      "text/html": [
       "<div>\n",
       "<style scoped>\n",
       "    .dataframe tbody tr th:only-of-type {\n",
       "        vertical-align: middle;\n",
       "    }\n",
       "\n",
       "    .dataframe tbody tr th {\n",
       "        vertical-align: top;\n",
       "    }\n",
       "\n",
       "    .dataframe thead th {\n",
       "        text-align: right;\n",
       "    }\n",
       "</style>\n",
       "<table border=\"1\" class=\"dataframe\">\n",
       "  <thead>\n",
       "    <tr style=\"text-align: right;\">\n",
       "      <th></th>\n",
       "      <th>Gender</th>\n",
       "      <th>Customer Type</th>\n",
       "      <th>Type of Travel</th>\n",
       "      <th>Class</th>\n",
       "      <th>Inflight wifi service</th>\n",
       "      <th>Departure/Arrival time convenient</th>\n",
       "      <th>Ease of Online booking</th>\n",
       "      <th>Gate location</th>\n",
       "      <th>Food and drink</th>\n",
       "      <th>Online boarding</th>\n",
       "      <th>Seat comfort</th>\n",
       "      <th>Inflight entertainment</th>\n",
       "      <th>On-board service</th>\n",
       "      <th>Leg room service</th>\n",
       "      <th>Baggage handling</th>\n",
       "      <th>Checkin service</th>\n",
       "      <th>Inflight service</th>\n",
       "      <th>Cleanliness</th>\n",
       "    </tr>\n",
       "  </thead>\n",
       "  <tbody>\n",
       "    <tr>\n",
       "      <th>count</th>\n",
       "      <td>103904</td>\n",
       "      <td>103904</td>\n",
       "      <td>103904</td>\n",
       "      <td>103904</td>\n",
       "      <td>103904</td>\n",
       "      <td>103904</td>\n",
       "      <td>103904</td>\n",
       "      <td>103904</td>\n",
       "      <td>103904</td>\n",
       "      <td>103904</td>\n",
       "      <td>103904</td>\n",
       "      <td>103904</td>\n",
       "      <td>103904</td>\n",
       "      <td>103904</td>\n",
       "      <td>103904</td>\n",
       "      <td>103904</td>\n",
       "      <td>103904</td>\n",
       "      <td>103904</td>\n",
       "    </tr>\n",
       "    <tr>\n",
       "      <th>unique</th>\n",
       "      <td>2</td>\n",
       "      <td>2</td>\n",
       "      <td>2</td>\n",
       "      <td>3</td>\n",
       "      <td>6</td>\n",
       "      <td>6</td>\n",
       "      <td>6</td>\n",
       "      <td>6</td>\n",
       "      <td>6</td>\n",
       "      <td>6</td>\n",
       "      <td>6</td>\n",
       "      <td>6</td>\n",
       "      <td>6</td>\n",
       "      <td>6</td>\n",
       "      <td>5</td>\n",
       "      <td>6</td>\n",
       "      <td>6</td>\n",
       "      <td>6</td>\n",
       "    </tr>\n",
       "    <tr>\n",
       "      <th>top</th>\n",
       "      <td>Female</td>\n",
       "      <td>Loyal Customer</td>\n",
       "      <td>Business travel</td>\n",
       "      <td>Business</td>\n",
       "      <td>3</td>\n",
       "      <td>4</td>\n",
       "      <td>3</td>\n",
       "      <td>3</td>\n",
       "      <td>4</td>\n",
       "      <td>4</td>\n",
       "      <td>4</td>\n",
       "      <td>4</td>\n",
       "      <td>4</td>\n",
       "      <td>4</td>\n",
       "      <td>4</td>\n",
       "      <td>4</td>\n",
       "      <td>4</td>\n",
       "      <td>4</td>\n",
       "    </tr>\n",
       "    <tr>\n",
       "      <th>freq</th>\n",
       "      <td>52727</td>\n",
       "      <td>84923</td>\n",
       "      <td>71655</td>\n",
       "      <td>49665</td>\n",
       "      <td>25868</td>\n",
       "      <td>25546</td>\n",
       "      <td>24449</td>\n",
       "      <td>28577</td>\n",
       "      <td>24359</td>\n",
       "      <td>30762</td>\n",
       "      <td>31765</td>\n",
       "      <td>29423</td>\n",
       "      <td>30867</td>\n",
       "      <td>28789</td>\n",
       "      <td>37383</td>\n",
       "      <td>29055</td>\n",
       "      <td>37945</td>\n",
       "      <td>27179</td>\n",
       "    </tr>\n",
       "  </tbody>\n",
       "</table>\n",
       "</div>"
      ],
      "text/plain": [
       "        Gender   Customer Type   Type of Travel     Class  \\\n",
       "count   103904          103904           103904    103904   \n",
       "unique       2               2                2         3   \n",
       "top     Female  Loyal Customer  Business travel  Business   \n",
       "freq     52727           84923            71655     49665   \n",
       "\n",
       "        Inflight wifi service  Departure/Arrival time convenient  \\\n",
       "count                  103904                             103904   \n",
       "unique                      6                                  6   \n",
       "top                         3                                  4   \n",
       "freq                    25868                              25546   \n",
       "\n",
       "        Ease of Online booking  Gate location  Food and drink  \\\n",
       "count                   103904         103904          103904   \n",
       "unique                       6              6               6   \n",
       "top                          3              3               4   \n",
       "freq                     24449          28577           24359   \n",
       "\n",
       "        Online boarding  Seat comfort  Inflight entertainment  \\\n",
       "count            103904        103904                  103904   \n",
       "unique                6             6                       6   \n",
       "top                   4             4                       4   \n",
       "freq              30762         31765                   29423   \n",
       "\n",
       "        On-board service  Leg room service  Baggage handling  Checkin service  \\\n",
       "count             103904            103904            103904           103904   \n",
       "unique                 6                 6                 5                6   \n",
       "top                    4                 4                 4                4   \n",
       "freq               30867             28789             37383            29055   \n",
       "\n",
       "        Inflight service  Cleanliness  \n",
       "count             103904       103904  \n",
       "unique                 6            6  \n",
       "top                    4            4  \n",
       "freq               37945        27179  "
      ]
     },
     "execution_count": 14,
     "metadata": {},
     "output_type": "execute_result"
    }
   ],
   "source": [
    "data.describe(include = ['category'])"
   ]
  },
  {
   "cell_type": "code",
   "execution_count": 15,
   "id": "5e99bd41",
   "metadata": {
    "execution": {
     "iopub.execute_input": "2023-07-16T18:43:22.019227Z",
     "iopub.status.busy": "2023-07-16T18:43:22.018829Z",
     "iopub.status.idle": "2023-07-16T18:43:22.174069Z",
     "shell.execute_reply": "2023-07-16T18:43:22.172905Z"
    },
    "papermill": {
     "duration": 0.181546,
     "end_time": "2023-07-16T18:43:22.178236",
     "exception": false,
     "start_time": "2023-07-16T18:43:21.996690",
     "status": "completed"
    },
    "tags": []
   },
   "outputs": [
    {
     "data": {
      "image/png": "[encoded data removed]",
      "text/plain": [
       "<Figure size 640x480 with 1 Axes>"
      ]
     },
     "metadata": {},
     "output_type": "display_data"
    }
   ],
   "source": [
    "plt.pie(data.satisfaction.value_counts(), labels=[\"Neutral or dissatisfied\", \"Satisfied\"], colors=sns.color_palette(\"YlOrBr\"), autopct='%1.2f%%')\n",
    "plt.show()"
   ]
  },
  {
   "cell_type": "markdown",
   "id": "dfb6b993",
   "metadata": {
    "papermill": {
     "duration": 0.033791,
     "end_time": "2023-07-16T18:43:22.247043",
     "exception": false,
     "start_time": "2023-07-16T18:43:22.213252",
     "status": "completed"
    },
    "tags": []
   },
   "source": [
    "Dengeli bir dağılım olduğunu söyleyebilir miyiz\n"
   ]
  },
  {
   "cell_type": "code",
   "execution_count": 16,
   "id": "e915f02d",
   "metadata": {
    "execution": {
     "iopub.execute_input": "2023-07-16T18:43:22.289369Z",
     "iopub.status.busy": "2023-07-16T18:43:22.288979Z",
     "iopub.status.idle": "2023-07-16T18:43:22.309618Z",
     "shell.execute_reply": "2023-07-16T18:43:22.308765Z"
    },
    "papermill": {
     "duration": 0.044359,
     "end_time": "2023-07-16T18:43:22.311770",
     "exception": false,
     "start_time": "2023-07-16T18:43:22.267411",
     "status": "completed"
    },
    "tags": []
   },
   "outputs": [
    {
     "data": {
      "text/html": [
       "<div>\n",
       "<style scoped>\n",
       "    .dataframe tbody tr th:only-of-type {\n",
       "        vertical-align: middle;\n",
       "    }\n",
       "\n",
       "    .dataframe tbody tr th {\n",
       "        vertical-align: top;\n",
       "    }\n",
       "\n",
       "    .dataframe thead th {\n",
       "        text-align: right;\n",
       "    }\n",
       "</style>\n",
       "<table border=\"1\" class=\"dataframe\">\n",
       "  <thead>\n",
       "    <tr style=\"text-align: right;\">\n",
       "      <th></th>\n",
       "      <th>Age</th>\n",
       "      <th>Flight Distance</th>\n",
       "      <th>Departure Delay in Minutes</th>\n",
       "      <th>Arrival Delay in Minutes</th>\n",
       "    </tr>\n",
       "  </thead>\n",
       "  <tbody>\n",
       "    <tr>\n",
       "      <th>Age</th>\n",
       "      <td>1.000000</td>\n",
       "      <td>0.099461</td>\n",
       "      <td>-0.010152</td>\n",
       "      <td>-0.012147</td>\n",
       "    </tr>\n",
       "    <tr>\n",
       "      <th>Flight Distance</th>\n",
       "      <td>0.099461</td>\n",
       "      <td>1.000000</td>\n",
       "      <td>0.002158</td>\n",
       "      <td>-0.002426</td>\n",
       "    </tr>\n",
       "    <tr>\n",
       "      <th>Departure Delay in Minutes</th>\n",
       "      <td>-0.010152</td>\n",
       "      <td>0.002158</td>\n",
       "      <td>1.000000</td>\n",
       "      <td>0.965481</td>\n",
       "    </tr>\n",
       "    <tr>\n",
       "      <th>Arrival Delay in Minutes</th>\n",
       "      <td>-0.012147</td>\n",
       "      <td>-0.002426</td>\n",
       "      <td>0.965481</td>\n",
       "      <td>1.000000</td>\n",
       "    </tr>\n",
       "  </tbody>\n",
       "</table>\n",
       "</div>"
      ],
      "text/plain": [
       "                                 Age  Flight Distance  \\\n",
       "Age                         1.000000         0.099461   \n",
       "Flight Distance             0.099461         1.000000   \n",
       "Departure Delay in Minutes -0.010152         0.002158   \n",
       "Arrival Delay in Minutes   -0.012147        -0.002426   \n",
       "\n",
       "                            Departure Delay in Minutes  \\\n",
       "Age                                          -0.010152   \n",
       "Flight Distance                               0.002158   \n",
       "Departure Delay in Minutes                    1.000000   \n",
       "Arrival Delay in Minutes                      0.965481   \n",
       "\n",
       "                            Arrival Delay in Minutes  \n",
       "Age                                        -0.012147  \n",
       "Flight Distance                            -0.002426  \n",
       "Departure Delay in Minutes                  0.965481  \n",
       "Arrival Delay in Minutes                    1.000000  "
      ]
     },
     "execution_count": 16,
     "metadata": {},
     "output_type": "execute_result"
    }
   ],
   "source": [
    "corr_mat = data.corr()\n",
    "corr_mat"
   ]
  },
  {
   "cell_type": "code",
   "execution_count": 17,
   "id": "db303d65",
   "metadata": {
    "execution": {
     "iopub.execute_input": "2023-07-16T18:43:22.355729Z",
     "iopub.status.busy": "2023-07-16T18:43:22.354725Z",
     "iopub.status.idle": "2023-07-16T18:43:22.374542Z",
     "shell.execute_reply": "2023-07-16T18:43:22.373706Z"
    },
    "papermill": {
     "duration": 0.044319,
     "end_time": "2023-07-16T18:43:22.376927",
     "exception": false,
     "start_time": "2023-07-16T18:43:22.332608",
     "status": "completed"
    },
    "tags": []
   },
   "outputs": [
    {
     "data": {
      "text/html": [
       "<div>\n",
       "<style scoped>\n",
       "    .dataframe tbody tr th:only-of-type {\n",
       "        vertical-align: middle;\n",
       "    }\n",
       "\n",
       "    .dataframe tbody tr th {\n",
       "        vertical-align: top;\n",
       "    }\n",
       "\n",
       "    .dataframe thead th {\n",
       "        text-align: right;\n",
       "    }\n",
       "</style>\n",
       "<table border=\"1\" class=\"dataframe\">\n",
       "  <thead>\n",
       "    <tr style=\"text-align: right;\">\n",
       "      <th></th>\n",
       "      <th>Age</th>\n",
       "      <th>Flight Distance</th>\n",
       "      <th>Departure Delay in Minutes</th>\n",
       "      <th>Arrival Delay in Minutes</th>\n",
       "    </tr>\n",
       "  </thead>\n",
       "  <tbody>\n",
       "    <tr>\n",
       "      <th>Age</th>\n",
       "      <td>1.000000</td>\n",
       "      <td>0.099461</td>\n",
       "      <td>-0.010152</td>\n",
       "      <td>-0.012147</td>\n",
       "    </tr>\n",
       "    <tr>\n",
       "      <th>Flight Distance</th>\n",
       "      <td>0.099461</td>\n",
       "      <td>1.000000</td>\n",
       "      <td>0.002158</td>\n",
       "      <td>-0.002426</td>\n",
       "    </tr>\n",
       "    <tr>\n",
       "      <th>Departure Delay in Minutes</th>\n",
       "      <td>-0.010152</td>\n",
       "      <td>0.002158</td>\n",
       "      <td>1.000000</td>\n",
       "      <td>0.965481</td>\n",
       "    </tr>\n",
       "    <tr>\n",
       "      <th>Arrival Delay in Minutes</th>\n",
       "      <td>-0.012147</td>\n",
       "      <td>-0.002426</td>\n",
       "      <td>0.965481</td>\n",
       "      <td>1.000000</td>\n",
       "    </tr>\n",
       "  </tbody>\n",
       "</table>\n",
       "</div>"
      ],
      "text/plain": [
       "                                 Age  Flight Distance  \\\n",
       "Age                         1.000000         0.099461   \n",
       "Flight Distance             0.099461         1.000000   \n",
       "Departure Delay in Minutes -0.010152         0.002158   \n",
       "Arrival Delay in Minutes   -0.012147        -0.002426   \n",
       "\n",
       "                            Departure Delay in Minutes  \\\n",
       "Age                                          -0.010152   \n",
       "Flight Distance                               0.002158   \n",
       "Departure Delay in Minutes                    1.000000   \n",
       "Arrival Delay in Minutes                      0.965481   \n",
       "\n",
       "                            Arrival Delay in Minutes  \n",
       "Age                                        -0.012147  \n",
       "Flight Distance                            -0.002426  \n",
       "Departure Delay in Minutes                  0.965481  \n",
       "Arrival Delay in Minutes                    1.000000  "
      ]
     },
     "execution_count": 17,
     "metadata": {},
     "output_type": "execute_result"
    }
   ],
   "source": [
    "corr_mat = data.corr()\n",
    "corr_mat"
   ]
  },
  {
   "cell_type": "code",
   "execution_count": 18,
   "id": "09537970",
   "metadata": {
    "execution": {
     "iopub.execute_input": "2023-07-16T18:43:22.421249Z",
     "iopub.status.busy": "2023-07-16T18:43:22.420381Z",
     "iopub.status.idle": "2023-07-16T18:43:22.737181Z",
     "shell.execute_reply": "2023-07-16T18:43:22.736004Z"
    },
    "papermill": {
     "duration": 0.34169,
     "end_time": "2023-07-16T18:43:22.740073",
     "exception": false,
     "start_time": "2023-07-16T18:43:22.398383",
     "status": "completed"
    },
    "tags": []
   },
   "outputs": [
    {
     "data": {
      "image/png": "[encoded data removed]",
      "text/plain": [
       "<Figure size 640x480 with 2 Axes>"
      ]
     },
     "metadata": {},
     "output_type": "display_data"
    }
   ],
   "source": [
    "sns.heatmap(corr_mat, square = True, cmap = 'Blues')\n",
    "pass"
   ]
  },
  {
   "cell_type": "markdown",
   "id": "27023a73",
   "metadata": {
    "papermill": {
     "duration": 0.023086,
     "end_time": "2023-07-16T18:43:22.784538",
     "exception": false,
     "start_time": "2023-07-16T18:43:22.761452",
     "status": "completed"
    },
    "tags": []
   },
   "source": [
    "'Departure delay in minutes' ve 'Arrival delay in minutes' arasında korelasyon olduğunu görüyoruz. "
   ]
  },
  {
   "cell_type": "code",
   "execution_count": 19,
   "id": "3660046e",
   "metadata": {
    "execution": {
     "iopub.execute_input": "2023-07-16T18:43:22.829383Z",
     "iopub.status.busy": "2023-07-16T18:43:22.828613Z",
     "iopub.status.idle": "2023-07-16T18:43:22.841522Z",
     "shell.execute_reply": "2023-07-16T18:43:22.840557Z"
    },
    "papermill": {
     "duration": 0.037691,
     "end_time": "2023-07-16T18:43:22.843736",
     "exception": false,
     "start_time": "2023-07-16T18:43:22.806045",
     "status": "completed"
    },
    "tags": []
   },
   "outputs": [
    {
     "data": {
      "text/plain": [
       "Departure Delay in Minutes  Arrival Delay in Minutes    0.965481\n",
       "dtype: float64"
      ]
     },
     "execution_count": 19,
     "metadata": {},
     "output_type": "execute_result"
    }
   ],
   "source": [
    "corr_mat.where(np.triu(corr_mat > 0.5, k=1)).stack().sort_values(ascending = False)"
   ]
  },
  {
   "cell_type": "code",
   "execution_count": 20,
   "id": "624092a8",
   "metadata": {
    "execution": {
     "iopub.execute_input": "2023-07-16T18:43:22.888027Z",
     "iopub.status.busy": "2023-07-16T18:43:22.887281Z",
     "iopub.status.idle": "2023-07-16T18:43:23.639327Z",
     "shell.execute_reply": "2023-07-16T18:43:23.638225Z"
    },
    "papermill": {
     "duration": 0.776894,
     "end_time": "2023-07-16T18:43:23.641697",
     "exception": false,
     "start_time": "2023-07-16T18:43:22.864803",
     "status": "completed"
    },
    "tags": []
   },
   "outputs": [
    {
     "data": {
      "image/png": "[encoded data removed]",
      "text/plain": [
       "<Figure size 640x480 with 1 Axes>"
      ]
     },
     "metadata": {},
     "output_type": "display_data"
    }
   ],
   "source": [
    "plt.scatter (data['Arrival Delay in Minutes'], data['Departure Delay in Minutes'], alpha = 0.5)\n",
    "pass"
   ]
  },
  {
   "cell_type": "markdown",
   "id": "b8ad1b15",
   "metadata": {
    "papermill": {
     "duration": 0.021229,
     "end_time": "2023-07-16T18:43:23.684647",
     "exception": false,
     "start_time": "2023-07-16T18:43:23.663418",
     "status": "completed"
    },
    "tags": []
   },
   "source": [
    "Noktaların sol alt köşeden sağ üst köşeye giden düz bir çizgi boyunca aşağı yukarı sıralandığını görebilirsiniz. Dolayısıyla, yaklaşık olarak varış zamanı gecikmesinin kalkış zamanı gecikmesine bağımlılığı doğrusaldır.\n",
    "\n",
    "Elde edilen sonuçlar oldukça mantıklıdır ve aşağıdaki şekilde açıklanabilir. Havayolu şirketinin müşterilerinin uçuşu kalkışta belirli bir süre gecikmişse, inişte de yaklaşık aynı süre gecikecektir (uçağın kayıp zamanı telafi etmek için uçuş sırasında hızlanmaması şartıyla)."
   ]
  },
  {
   "cell_type": "markdown",
   "id": "9cf7a27b",
   "metadata": {
    "papermill": {
     "duration": 0.021159,
     "end_time": "2023-07-16T18:43:23.727220",
     "exception": false,
     "start_time": "2023-07-16T18:43:23.706061",
     "status": "completed"
    },
    "tags": []
   },
   "source": [
    "Kategorik özelliklerin her biri için değerlerin oranını göz önünde bulundurma:"
   ]
  },
  {
   "cell_type": "code",
   "execution_count": 21,
   "id": "c9f76544",
   "metadata": {
    "execution": {
     "iopub.execute_input": "2023-07-16T18:43:23.772672Z",
     "iopub.status.busy": "2023-07-16T18:43:23.772039Z",
     "iopub.status.idle": "2023-07-16T18:43:25.862189Z",
     "shell.execute_reply": "2023-07-16T18:43:25.861224Z"
    },
    "papermill": {
     "duration": 2.116603,
     "end_time": "2023-07-16T18:43:25.865502",
     "exception": false,
     "start_time": "2023-07-16T18:43:23.748899",
     "status": "completed"
    },
    "tags": []
   },
   "outputs": [
    {
     "data": {
      "image/png": "[encoded data removed]",
      "text/plain": [
       "<Figure size 2000x2000 with 18 Axes>"
      ]
     },
     "metadata": {},
     "output_type": "display_data"
    }
   ],
   "source": [
    "categ = data.iloc[:,categorical_indexes]\n",
    "fig, axes = plt.subplots(6, 3, figsize = (20, 20))\n",
    "for i, col in enumerate(categ):\n",
    "    column_values = data[col].value_counts()\n",
    "    labels = column_values.index\n",
    "    sizes = column_values.values\n",
    "    axes[i//3, i%3].pie(sizes, labels = labels, colors = sns.color_palette(\"YlOrBr\"), autopct = '%1.0f%%', startangle = 90)\n",
    "    axes[i//3, i%3].axis('equal')\n",
    "    axes[i//3, i%3].set_title(col)\n",
    "plt.show()"
   ]
  },
  {
   "cell_type": "markdown",
   "id": "6543800a",
   "metadata": {
    "papermill": {
     "duration": 0.025937,
     "end_time": "2023-07-16T18:43:25.917655",
     "exception": false,
     "start_time": "2023-07-16T18:43:25.891718",
     "status": "completed"
    },
    "tags": []
   },
   "source": [
    "Ele alınan örneklem hakkında bazı sonuçlar:\n",
    "\n",
    "- Bu örneklemdeki erkek ve kadın sayısı yaklaşık olarak aynıdır.\n",
    "- Havayolu şirketinin müşterilerinin büyük çoğunluğu sürekli müşterilerdir.\n",
    "- Müşterilerimizin çoğu kişisel nedenlerden ziyade iş için uçtu.\n",
    "- Yolcuların yaklaşık yarısı business sınıfındaydı.\n",
    "- Yolcuların %60'ından fazlası bagaj taşıma hizmetinden memnun kaldı (5 üzerinden 4-5 puan)\n",
    "- Yolcuların %50'sinden fazlası koltuklarında otururken rahattı (5 üzerinden 4-5 puan)"
   ]
  },
  {
   "cell_type": "markdown",
   "id": "a992c959",
   "metadata": {
    "papermill": {
     "duration": 0.026038,
     "end_time": "2023-07-16T18:43:25.970030",
     "exception": false,
     "start_time": "2023-07-16T18:43:25.943992",
     "status": "completed"
    },
    "tags": []
   },
   "source": [
    "Şimdi birkaç \"boxes with whiskers\" (kutu diyagramlarına) bakalım."
   ]
  },
  {
   "cell_type": "code",
   "execution_count": 22,
   "id": "00ef0b7d",
   "metadata": {
    "execution": {
     "iopub.execute_input": "2023-07-16T18:43:26.024704Z",
     "iopub.status.busy": "2023-07-16T18:43:26.023820Z",
     "iopub.status.idle": "2023-07-16T18:43:26.886388Z",
     "shell.execute_reply": "2023-07-16T18:43:26.885270Z"
    },
    "papermill": {
     "duration": 0.892708,
     "end_time": "2023-07-16T18:43:26.888918",
     "exception": false,
     "start_time": "2023-07-16T18:43:25.996210",
     "status": "completed"
    },
    "tags": []
   },
   "outputs": [
    {
     "data": {
      "image/png": "[encoded data removed]",
      "text/plain": [
       "<Figure size 1500x500 with 2 Axes>"
      ]
     },
     "metadata": {},
     "output_type": "display_data"
    }
   ],
   "source": [
    "f, ax = plt.subplots(1, 2, figsize = (15,5))\n",
    "sns.boxplot(x = \"Customer Type\", y = \"Age\", palette = \"YlOrBr\", data = data, ax = ax[0])\n",
    "sns.histplot(data, x = \"Age\", hue = \"Customer Type\", multiple = \"stack\", palette = \"YlOrBr\", edgecolor = \".3\", linewidth = .5, ax = ax[1])\n",
    "pass"
   ]
  },
  {
   "cell_type": "markdown",
   "id": "b354a9a3",
   "metadata": {
    "papermill": {
     "duration": 0.026198,
     "end_time": "2023-07-16T18:43:26.941688",
     "exception": false,
     "start_time": "2023-07-16T18:43:26.915490",
     "status": "completed"
    },
    "tags": []
   },
   "source": [
    "Bu box diyagramından, havayolunun düzenli müşterilerinin çoğunun 30 ila 50 yaşları arasında olduğu sonucuna varabiliriz (ortalama yaşları 40'ın biraz üzerindedir). Düzenli olmayan müşterilerin yaş aralığı biraz daha küçüktür (ortalama olarak 25 ila 40 yaş arası - 30'dan biraz daha az)."
   ]
  },
  {
   "cell_type": "code",
   "execution_count": 23,
   "id": "cdc7ca38",
   "metadata": {
    "execution": {
     "iopub.execute_input": "2023-07-16T18:43:26.996470Z",
     "iopub.status.busy": "2023-07-16T18:43:26.996054Z",
     "iopub.status.idle": "2023-07-16T18:43:28.077062Z",
     "shell.execute_reply": "2023-07-16T18:43:28.075904Z"
    },
    "papermill": {
     "duration": 1.111369,
     "end_time": "2023-07-16T18:43:28.079585",
     "exception": false,
     "start_time": "2023-07-16T18:43:26.968216",
     "status": "completed"
    },
    "tags": []
   },
   "outputs": [
    {
     "data": {
      "image/png": "[encoded data removed]",
      "text/plain": [
       "<Figure size 1500x500 with 2 Axes>"
      ]
     },
     "metadata": {},
     "output_type": "display_data"
    }
   ],
   "source": [
    "f, ax = plt.subplots(1, 2, figsize = (15,5))\n",
    "sns.boxplot(x = \"Class\", y = \"Age\", palette = \"YlOrBr\", data = data, ax = ax[0])\n",
    "sns.histplot(data, x = \"Age\", hue = \"Class\", multiple = \"stack\", palette = \"YlOrBr\", edgecolor = \".3\", linewidth = .5, ax = ax[1])\n",
    "pass"
   ]
  },
  {
   "cell_type": "markdown",
   "id": "6add3bf0",
   "metadata": {
    "papermill": {
     "duration": 0.028571,
     "end_time": "2023-07-16T18:43:28.137207",
     "exception": false,
     "start_time": "2023-07-16T18:43:28.108636",
     "status": "completed"
    },
    "tags": []
   },
   "source": [
    "Ortalama olarak, business sınıfında seyahat eden müşterilerin yaş aralığının (bir önceki box grafiğine göre) normal müşterilerin yaş aralığı ile aynı olduğu görülebilir. Bu gözleme dayanarak, düzenli müşterilerin business class'ı çoğunlukla kendileri için satın aldıkları varsayılabilir."
   ]
  },
  {
   "cell_type": "code",
   "execution_count": 24,
   "id": "f89288a8",
   "metadata": {
    "execution": {
     "iopub.execute_input": "2023-07-16T18:43:28.194645Z",
     "iopub.status.busy": "2023-07-16T18:43:28.194247Z",
     "iopub.status.idle": "2023-07-16T18:43:29.459009Z",
     "shell.execute_reply": "2023-07-16T18:43:29.458141Z"
    },
    "papermill": {
     "duration": 1.295946,
     "end_time": "2023-07-16T18:43:29.461241",
     "exception": false,
     "start_time": "2023-07-16T18:43:28.165295",
     "status": "completed"
    },
    "tags": []
   },
   "outputs": [
    {
     "data": {
      "image/png": "[encoded data removed]",
      "text/plain": [
       "<Figure size 1500x500 with 2 Axes>"
      ]
     },
     "metadata": {},
     "output_type": "display_data"
    }
   ],
   "source": [
    "f, ax = plt.subplots(1, 2, figsize = (15,5))\n",
    "sns.boxplot(x = \"Class\", y = \"Flight Distance\", palette = \"YlOrBr\", data = data, ax = ax[0])\n",
    "sns.histplot(data, x = \"Flight Distance\", hue = \"Class\", multiple = \"stack\", palette = \"YlOrBr\", edgecolor = \".3\", linewidth = .5, ax = ax[1])\n",
    "pass"
   ]
  },
  {
   "cell_type": "markdown",
   "id": "f9eb5f9c",
   "metadata": {
    "papermill": {
     "duration": 0.027919,
     "end_time": "2023-07-16T18:43:29.517921",
     "exception": false,
     "start_time": "2023-07-16T18:43:29.490002",
     "status": "completed"
    },
    "tags": []
   },
   "source": [
    "Bu box diyagramından şu sonuç çıkarılabilir: uçuş mesafesi uzun olan müşteriler çoğunlukla business sınıfında uçmaktadır."
   ]
  },
  {
   "cell_type": "code",
   "execution_count": 25,
   "id": "eb47cf77",
   "metadata": {
    "execution": {
     "iopub.execute_input": "2023-07-16T18:43:29.575603Z",
     "iopub.status.busy": "2023-07-16T18:43:29.574994Z",
     "iopub.status.idle": "2023-07-16T18:43:32.843646Z",
     "shell.execute_reply": "2023-07-16T18:43:32.842518Z"
    },
    "papermill": {
     "duration": 3.300794,
     "end_time": "2023-07-16T18:43:32.846531",
     "exception": false,
     "start_time": "2023-07-16T18:43:29.545737",
     "status": "completed"
    },
    "tags": []
   },
   "outputs": [
    {
     "data": {
      "image/png": "[encoded data removed]",
      "text/plain": [
       "<Figure size 1500x800 with 4 Axes>"
      ]
     },
     "metadata": {},
     "output_type": "display_data"
    }
   ],
   "source": [
    "f, ax = plt.subplots(2, 2, figsize = (15,8))\n",
    "sns.boxplot(x = \"Inflight entertainment\", y = \"Flight Distance\", palette = \"YlOrBr\", data = data, ax = ax[0, 0])\n",
    "sns.histplot(data, x = \"Flight Distance\", hue = \"Inflight entertainment\", multiple = \"stack\", palette = \"YlOrBr\", edgecolor = \".3\", linewidth = .5, ax = ax[0, 1])\n",
    "sns.boxplot(x = \"Leg room service\", y = \"Flight Distance\", palette = \"YlOrBr\", data = data, ax = ax[1, 0])\n",
    "sns.histplot(data, x = \"Flight Distance\", hue = \"Leg room service\", multiple = \"stack\", palette = \"YlOrBr\", edgecolor = \".3\", linewidth = .5, ax = ax[1, 1])\n",
    "pass"
   ]
  },
  {
   "cell_type": "markdown",
   "id": "0ffac309",
   "metadata": {
    "papermill": {
     "duration": 0.029471,
     "end_time": "2023-07-16T18:43:32.905980",
     "exception": false,
     "start_time": "2023-07-16T18:43:32.876509",
     "status": "completed"
    },
    "tags": []
   },
   "source": [
    "Şu pattern görülebilir: bir uçak yolcusu ne kadar çok mesafe kat ederse (sırasıyla, ne kadar uzun süre uçuşta kalırsa), uçuştaki eğlenceden ve ekstra bacak boşluğundan (ortalama olarak) o kadar çok memnun kalmaktadır."
   ]
  },
  {
   "cell_type": "markdown",
   "id": "e3310dce",
   "metadata": {
    "papermill": {
     "duration": 0.029365,
     "end_time": "2023-07-16T18:43:32.966198",
     "exception": false,
     "start_time": "2023-07-16T18:43:32.936833",
     "status": "completed"
    },
    "tags": []
   },
   "source": [
    "Şimdi bazı kategorik özelliklerin hedefe - hava yolcularının memnuniyetine - bağımlılık grafiklerini ele alalım:"
   ]
  },
  {
   "cell_type": "code",
   "execution_count": 26,
   "id": "372e60f0",
   "metadata": {
    "execution": {
     "iopub.execute_input": "2023-07-16T18:43:33.028228Z",
     "iopub.status.busy": "2023-07-16T18:43:33.027754Z",
     "iopub.status.idle": "2023-07-16T18:43:33.271458Z",
     "shell.execute_reply": "2023-07-16T18:43:33.270302Z"
    },
    "papermill": {
     "duration": 0.27848,
     "end_time": "2023-07-16T18:43:33.274538",
     "exception": false,
     "start_time": "2023-07-16T18:43:32.996058",
     "status": "completed"
    },
    "tags": []
   },
   "outputs": [
    {
     "data": {
      "image/png": "[encoded data removed]",
      "text/plain": [
       "<Figure size 640x480 with 1 Axes>"
      ]
     },
     "metadata": {},
     "output_type": "display_data"
    }
   ],
   "source": [
    "sns.countplot(x = 'Class', hue = 'satisfaction', palette = \"YlOrBr\", data = data)\n",
    "plt.show()"
   ]
  },
  {
   "cell_type": "markdown",
   "id": "de14b33b",
   "metadata": {
    "papermill": {
     "duration": 0.030671,
     "end_time": "2023-07-16T18:43:33.339839",
     "exception": false,
     "start_time": "2023-07-16T18:43:33.309168",
     "status": "completed"
    },
    "tags": []
   },
   "source": [
    "Bu grafik çok açıklayıcı. Ekonomi plus veya ekonomi sınıfında uçan yolcuların çoğunun uçuştan memnun olmadığını, business sınıfında uçacak kadar şanslı olanların ise memnun olduğunu görebilirsiniz."
   ]
  },
  {
   "cell_type": "code",
   "execution_count": 27,
   "id": "1e671c80",
   "metadata": {
    "execution": {
     "iopub.execute_input": "2023-07-16T18:43:33.402415Z",
     "iopub.status.busy": "2023-07-16T18:43:33.401321Z",
     "iopub.status.idle": "2023-07-16T18:43:33.675930Z",
     "shell.execute_reply": "2023-07-16T18:43:33.674815Z"
    },
    "papermill": {
     "duration": 0.308232,
     "end_time": "2023-07-16T18:43:33.678299",
     "exception": false,
     "start_time": "2023-07-16T18:43:33.370067",
     "status": "completed"
    },
    "tags": []
   },
   "outputs": [
    {
     "data": {
      "image/png": "[encoded data removed]",
      "text/plain": [
       "<Figure size 640x480 with 1 Axes>"
      ]
     },
     "metadata": {},
     "output_type": "display_data"
    }
   ],
   "source": [
    "sns.countplot(x = 'Inflight wifi service', hue = 'satisfaction', palette = \"YlOrBr\", data = data)\n",
    "plt.show()"
   ]
  },
  {
   "cell_type": "markdown",
   "id": "93484279",
   "metadata": {
    "papermill": {
     "duration": 0.030423,
     "end_time": "2023-07-16T18:43:33.739019",
     "exception": false,
     "start_time": "2023-07-16T18:43:33.708596",
     "status": "completed"
    },
    "tags": []
   },
   "source": [
    "Bu grafiğe göre, wifi hizmetine 5 üzerinden 5 puan veren yolcuların neredeyse tamamının uçuştan memnun kaldığını görebilirsiniz."
   ]
  },
  {
   "cell_type": "code",
   "execution_count": 28,
   "id": "b6236ead",
   "metadata": {
    "execution": {
     "iopub.execute_input": "2023-07-16T18:43:33.802176Z",
     "iopub.status.busy": "2023-07-16T18:43:33.801743Z",
     "iopub.status.idle": "2023-07-16T18:43:34.353666Z",
     "shell.execute_reply": "2023-07-16T18:43:34.352529Z"
    },
    "papermill": {
     "duration": 0.586658,
     "end_time": "2023-07-16T18:43:34.355979",
     "exception": false,
     "start_time": "2023-07-16T18:43:33.769321",
     "status": "completed"
    },
    "tags": []
   },
   "outputs": [
    {
     "data": {
      "image/png": "[encoded data removed]",
      "text/plain": [
       "<Figure size 2000x500 with 2 Axes>"
      ]
     },
     "metadata": {},
     "output_type": "display_data"
    }
   ],
   "source": [
    "f, ax = plt.subplots(1, 2, figsize = (20,5))\n",
    "sns.countplot(x = 'Seat comfort', hue = 'satisfaction', palette = \"YlOrBr\", data = data,ax = ax[0])\n",
    "sns.countplot(x = 'Leg room service', hue = 'satisfaction', palette = \"YlOrBr\", data = data, ax = ax[1])\n",
    "plt.show()"
   ]
  },
  {
   "cell_type": "markdown",
   "id": "0addcbe2",
   "metadata": {
    "execution": {
     "iopub.execute_input": "2023-07-12T22:38:03.588009Z",
     "iopub.status.busy": "2023-07-12T22:38:03.587578Z",
     "iopub.status.idle": "2023-07-12T22:38:03.598100Z",
     "shell.execute_reply": "2023-07-12T22:38:03.596019Z",
     "shell.execute_reply.started": "2023-07-12T22:38:03.587973Z"
    },
    "papermill": {
     "duration": 0.031437,
     "end_time": "2023-07-16T18:43:34.419927",
     "exception": false,
     "start_time": "2023-07-16T18:43:34.388490",
     "status": "completed"
    },
    "tags": []
   },
   "source": [
    "Yukarıdaki grafiklerden şu sonuca varabiliriz: koltukların konforunu ve ekstra diz mesafesini 5 üzerinden 4 ve 5 puanla değerlendiren yolcuların çoğu uçuştan memnun kalmıştır."
   ]
  },
  {
   "cell_type": "markdown",
   "id": "672e5314",
   "metadata": {
    "papermill": {
     "duration": 0.031102,
     "end_time": "2023-07-16T18:43:34.482581",
     "exception": false,
     "start_time": "2023-07-16T18:43:34.451479",
     "status": "completed"
    },
    "tags": []
   },
   "source": [
    "<div style=\"border-width:1; border-radius: 15px; border-style: solid; border-color: rgb(10, 10, 10); background-color: #9370D8; text-align: center;font: 14pt 'Candara';font-weight:bold;\"><h1>Filling in missing values</h1></div>"
   ]
  },
  {
   "cell_type": "code",
   "execution_count": 29,
   "id": "1cd06b05",
   "metadata": {
    "execution": {
     "iopub.execute_input": "2023-07-16T18:43:34.546560Z",
     "iopub.status.busy": "2023-07-16T18:43:34.546178Z",
     "iopub.status.idle": "2023-07-16T18:43:34.575222Z",
     "shell.execute_reply": "2023-07-16T18:43:34.574183Z"
    },
    "papermill": {
     "duration": 0.063591,
     "end_time": "2023-07-16T18:43:34.577327",
     "exception": false,
     "start_time": "2023-07-16T18:43:34.513736",
     "status": "completed"
    },
    "tags": []
   },
   "outputs": [
    {
     "data": {
      "text/plain": [
       "Gender                                 0\n",
       "Customer Type                          0\n",
       "Age                                    0\n",
       "Type of Travel                         0\n",
       "Class                                  0\n",
       "Flight Distance                        0\n",
       "Inflight wifi service                  0\n",
       "Departure/Arrival time convenient      0\n",
       "Ease of Online booking                 0\n",
       "Gate location                          0\n",
       "Food and drink                         0\n",
       "Online boarding                        0\n",
       "Seat comfort                           0\n",
       "Inflight entertainment                 0\n",
       "On-board service                       0\n",
       "Leg room service                       0\n",
       "Baggage handling                       0\n",
       "Checkin service                        0\n",
       "Inflight service                       0\n",
       "Cleanliness                            0\n",
       "Departure Delay in Minutes             0\n",
       "Arrival Delay in Minutes             310\n",
       "satisfaction                           0\n",
       "dtype: int64"
      ]
     },
     "execution_count": 29,
     "metadata": {},
     "output_type": "execute_result"
    }
   ],
   "source": [
    "data.isna().sum()"
   ]
  },
  {
   "cell_type": "code",
   "execution_count": 30,
   "id": "6218d69b",
   "metadata": {
    "execution": {
     "iopub.execute_input": "2023-07-16T18:43:34.642200Z",
     "iopub.status.busy": "2023-07-16T18:43:34.641773Z",
     "iopub.status.idle": "2023-07-16T18:43:34.651004Z",
     "shell.execute_reply": "2023-07-16T18:43:34.649832Z"
    },
    "papermill": {
     "duration": 0.044914,
     "end_time": "2023-07-16T18:43:34.653299",
     "exception": false,
     "start_time": "2023-07-16T18:43:34.608385",
     "status": "completed"
    },
    "tags": []
   },
   "outputs": [],
   "source": [
    "data['Arrival Delay in Minutes'].fillna(data['Arrival Delay in Minutes'].median(axis = 0), inplace = True)"
   ]
  },
  {
   "cell_type": "code",
   "execution_count": 31,
   "id": "7d7b7d6f",
   "metadata": {
    "execution": {
     "iopub.execute_input": "2023-07-16T18:43:34.717586Z",
     "iopub.status.busy": "2023-07-16T18:43:34.717163Z",
     "iopub.status.idle": "2023-07-16T18:43:34.757704Z",
     "shell.execute_reply": "2023-07-16T18:43:34.756597Z"
    },
    "papermill": {
     "duration": 0.075782,
     "end_time": "2023-07-16T18:43:34.760054",
     "exception": false,
     "start_time": "2023-07-16T18:43:34.684272",
     "status": "completed"
    },
    "tags": []
   },
   "outputs": [
    {
     "data": {
      "text/html": [
       "<div>\n",
       "<style scoped>\n",
       "    .dataframe tbody tr th:only-of-type {\n",
       "        vertical-align: middle;\n",
       "    }\n",
       "\n",
       "    .dataframe tbody tr th {\n",
       "        vertical-align: top;\n",
       "    }\n",
       "\n",
       "    .dataframe thead th {\n",
       "        text-align: right;\n",
       "    }\n",
       "</style>\n",
       "<table border=\"1\" class=\"dataframe\">\n",
       "  <thead>\n",
       "    <tr style=\"text-align: right;\">\n",
       "      <th></th>\n",
       "      <th>count</th>\n",
       "      <th>mean</th>\n",
       "      <th>std</th>\n",
       "      <th>min</th>\n",
       "      <th>25%</th>\n",
       "      <th>50%</th>\n",
       "      <th>75%</th>\n",
       "      <th>max</th>\n",
       "    </tr>\n",
       "  </thead>\n",
       "  <tbody>\n",
       "    <tr>\n",
       "      <th>Age</th>\n",
       "      <td>103904.0</td>\n",
       "      <td>39.379706</td>\n",
       "      <td>15.114964</td>\n",
       "      <td>7.0</td>\n",
       "      <td>27.0</td>\n",
       "      <td>40.0</td>\n",
       "      <td>51.0</td>\n",
       "      <td>85.0</td>\n",
       "    </tr>\n",
       "    <tr>\n",
       "      <th>Flight Distance</th>\n",
       "      <td>103904.0</td>\n",
       "      <td>1189.448375</td>\n",
       "      <td>997.147281</td>\n",
       "      <td>31.0</td>\n",
       "      <td>414.0</td>\n",
       "      <td>843.0</td>\n",
       "      <td>1743.0</td>\n",
       "      <td>4983.0</td>\n",
       "    </tr>\n",
       "    <tr>\n",
       "      <th>Departure Delay in Minutes</th>\n",
       "      <td>103904.0</td>\n",
       "      <td>14.815618</td>\n",
       "      <td>38.230901</td>\n",
       "      <td>0.0</td>\n",
       "      <td>0.0</td>\n",
       "      <td>0.0</td>\n",
       "      <td>12.0</td>\n",
       "      <td>1592.0</td>\n",
       "    </tr>\n",
       "    <tr>\n",
       "      <th>Arrival Delay in Minutes</th>\n",
       "      <td>103904.0</td>\n",
       "      <td>15.133392</td>\n",
       "      <td>38.649776</td>\n",
       "      <td>0.0</td>\n",
       "      <td>0.0</td>\n",
       "      <td>0.0</td>\n",
       "      <td>13.0</td>\n",
       "      <td>1584.0</td>\n",
       "    </tr>\n",
       "  </tbody>\n",
       "</table>\n",
       "</div>"
      ],
      "text/plain": [
       "                               count         mean         std   min    25%  \\\n",
       "Age                         103904.0    39.379706   15.114964   7.0   27.0   \n",
       "Flight Distance             103904.0  1189.448375  997.147281  31.0  414.0   \n",
       "Departure Delay in Minutes  103904.0    14.815618   38.230901   0.0    0.0   \n",
       "Arrival Delay in Minutes    103904.0    15.133392   38.649776   0.0    0.0   \n",
       "\n",
       "                              50%     75%     max  \n",
       "Age                          40.0    51.0    85.0  \n",
       "Flight Distance             843.0  1743.0  4983.0  \n",
       "Departure Delay in Minutes    0.0    12.0  1592.0  \n",
       "Arrival Delay in Minutes      0.0    13.0  1584.0  "
      ]
     },
     "execution_count": 31,
     "metadata": {},
     "output_type": "execute_result"
    }
   ],
   "source": [
    "data.describe().T"
   ]
  },
  {
   "cell_type": "markdown",
   "id": "845dca93",
   "metadata": {
    "papermill": {
     "duration": 0.032062,
     "end_time": "2023-07-16T18:43:34.823176",
     "exception": false,
     "start_time": "2023-07-16T18:43:34.791114",
     "status": "completed"
    },
    "tags": []
   },
   "source": [
    "<div style=\"border-width:1; border-radius: 15px; border-style: solid; border-color: rgb(10, 10, 10); background-color: #9370D8; text-align: center;font: 14pt 'Candara';font-weight:bold;\"><h1>Handling categorical features\n",
    "</h1></div>"
   ]
  },
  {
   "cell_type": "code",
   "execution_count": 32,
   "id": "cd79a5dd",
   "metadata": {
    "execution": {
     "iopub.execute_input": "2023-07-16T18:43:34.887125Z",
     "iopub.status.busy": "2023-07-16T18:43:34.886764Z",
     "iopub.status.idle": "2023-07-16T18:43:34.934344Z",
     "shell.execute_reply": "2023-07-16T18:43:34.933338Z"
    },
    "papermill": {
     "duration": 0.082519,
     "end_time": "2023-07-16T18:43:34.936819",
     "exception": false,
     "start_time": "2023-07-16T18:43:34.854300",
     "status": "completed"
    },
    "tags": []
   },
   "outputs": [],
   "source": [
    "numerical_columns = [c for c in data.columns if data[c].dtype.name != 'category']\n",
    "numerical_columns.remove('satisfaction')\n",
    "categorical_columns = [c for c in data.columns if data[c].dtype.name == 'category']\n",
    "data_describe = data.describe(include = ['category'])"
   ]
  },
  {
   "cell_type": "code",
   "execution_count": 33,
   "id": "d1419434",
   "metadata": {
    "execution": {
     "iopub.execute_input": "2023-07-16T18:43:35.002589Z",
     "iopub.status.busy": "2023-07-16T18:43:35.001774Z",
     "iopub.status.idle": "2023-07-16T18:43:35.009656Z",
     "shell.execute_reply": "2023-07-16T18:43:35.008716Z"
    },
    "papermill": {
     "duration": 0.043339,
     "end_time": "2023-07-16T18:43:35.011916",
     "exception": false,
     "start_time": "2023-07-16T18:43:34.968577",
     "status": "completed"
    },
    "tags": []
   },
   "outputs": [
    {
     "name": "stdout",
     "output_type": "stream",
     "text": [
      "['Gender', 'Customer Type', 'Type of Travel'] ['Class', 'Inflight wifi service', 'Departure/Arrival time convenient', 'Ease of Online booking', 'Gate location', 'Food and drink', 'Online boarding', 'Seat comfort', 'Inflight entertainment', 'On-board service', 'Leg room service', 'Baggage handling', 'Checkin service', 'Inflight service', 'Cleanliness']\n"
     ]
    }
   ],
   "source": [
    "binary_columns = [c for c in categorical_columns if data_describe[c]['unique'] == 2]\n",
    "nonbinary_columns = [c for c in categorical_columns if data_describe[c]['unique'] > 2]\n",
    "print(binary_columns, nonbinary_columns)"
   ]
  },
  {
   "cell_type": "code",
   "execution_count": 34,
   "id": "59909ef0",
   "metadata": {
    "execution": {
     "iopub.execute_input": "2023-07-16T18:43:35.077986Z",
     "iopub.status.busy": "2023-07-16T18:43:35.077267Z",
     "iopub.status.idle": "2023-07-16T18:43:35.091185Z",
     "shell.execute_reply": "2023-07-16T18:43:35.090095Z"
    },
    "papermill": {
     "duration": 0.04991,
     "end_time": "2023-07-16T18:43:35.093881",
     "exception": false,
     "start_time": "2023-07-16T18:43:35.043971",
     "status": "completed"
    },
    "tags": []
   },
   "outputs": [
    {
     "name": "stdout",
     "output_type": "stream",
     "text": [
      "Gender : Male, Female.\n",
      "Customer Type : Loyal Customer, disloyal Customer.\n",
      "Type of Travel : Personal Travel, Business travel.\n"
     ]
    }
   ],
   "source": [
    "for col in binary_columns:\n",
    "    print(col, ': ', end = '')\n",
    "    for uniq in data[col].unique():\n",
    "        if uniq == data[col].unique()[-1]:\n",
    "            print(uniq, end = '.')\n",
    "        else:\n",
    "            print(uniq, end = ', ')\n",
    "    print()"
   ]
  },
  {
   "cell_type": "code",
   "execution_count": 35,
   "id": "de150331",
   "metadata": {
    "execution": {
     "iopub.execute_input": "2023-07-16T18:43:35.162418Z",
     "iopub.status.busy": "2023-07-16T18:43:35.161299Z",
     "iopub.status.idle": "2023-07-16T18:43:35.170815Z",
     "shell.execute_reply": "2023-07-16T18:43:35.169676Z"
    },
    "papermill": {
     "duration": 0.044548,
     "end_time": "2023-07-16T18:43:35.173020",
     "exception": false,
     "start_time": "2023-07-16T18:43:35.128472",
     "status": "completed"
    },
    "tags": []
   },
   "outputs": [
    {
     "data": {
      "text/plain": [
       "0         False\n",
       "1          True\n",
       "2          True\n",
       "3          True\n",
       "4          True\n",
       "          ...  \n",
       "103899     True\n",
       "103900     True\n",
       "103901     True\n",
       "103902     True\n",
       "103903     True\n",
       "Name: Type of Travel, Length: 103904, dtype: bool"
      ]
     },
     "execution_count": 35,
     "metadata": {},
     "output_type": "execute_result"
    }
   ],
   "source": [
    "data[col] == uniq"
   ]
  },
  {
   "cell_type": "code",
   "execution_count": 36,
   "id": "62be103e",
   "metadata": {
    "execution": {
     "iopub.execute_input": "2023-07-16T18:43:35.246005Z",
     "iopub.status.busy": "2023-07-16T18:43:35.245183Z",
     "iopub.status.idle": "2023-07-16T18:43:35.395389Z",
     "shell.execute_reply": "2023-07-16T18:43:35.393907Z"
    },
    "papermill": {
     "duration": 0.193159,
     "end_time": "2023-07-16T18:43:35.397858",
     "exception": false,
     "start_time": "2023-07-16T18:43:35.204699",
     "status": "completed"
    },
    "tags": []
   },
   "outputs": [
    {
     "name": "stdout",
     "output_type": "stream",
     "text": [
      "count     103904\n",
      "unique         2\n",
      "top            1\n",
      "freq       52727\n",
      "Name: Gender, dtype: int64\n",
      "\n",
      "count     103904\n",
      "unique         2\n",
      "top            0\n",
      "freq       84923\n",
      "Name: Customer Type, dtype: int64\n",
      "\n",
      "count     103904\n",
      "unique         2\n",
      "top            1\n",
      "freq       71655\n",
      "Name: Type of Travel, dtype: int64\n",
      "\n"
     ]
    }
   ],
   "source": [
    "for col in binary_columns:\n",
    "    data[col] = data[col].astype('object')\n",
    "    k = 0\n",
    "    for uniq in data[col].unique():\n",
    "        data.loc[data[col] == uniq, col] = k\n",
    "        k +=1 \n",
    "for col in binary_columns:\n",
    "    print(data[col].describe(), end = '\\n\\n')"
   ]
  },
  {
   "cell_type": "markdown",
   "id": "bf612b91",
   "metadata": {
    "papermill": {
     "duration": 0.03283,
     "end_time": "2023-07-16T18:43:35.462698",
     "exception": false,
     "start_time": "2023-07-16T18:43:35.429868",
     "status": "completed"
    },
    "tags": []
   },
   "source": [
    "Şimdi ikili olmayan kategorik özelliklere bakalım:"
   ]
  },
  {
   "cell_type": "code",
   "execution_count": 37,
   "id": "e7303a1f",
   "metadata": {
    "execution": {
     "iopub.execute_input": "2023-07-16T18:43:35.529289Z",
     "iopub.status.busy": "2023-07-16T18:43:35.528817Z",
     "iopub.status.idle": "2023-07-16T18:43:35.558987Z",
     "shell.execute_reply": "2023-07-16T18:43:35.557881Z"
    },
    "papermill": {
     "duration": 0.066886,
     "end_time": "2023-07-16T18:43:35.561281",
     "exception": false,
     "start_time": "2023-07-16T18:43:35.494395",
     "status": "completed"
    },
    "tags": []
   },
   "outputs": [
    {
     "data": {
      "text/html": [
       "<div>\n",
       "<style scoped>\n",
       "    .dataframe tbody tr th:only-of-type {\n",
       "        vertical-align: middle;\n",
       "    }\n",
       "\n",
       "    .dataframe tbody tr th {\n",
       "        vertical-align: top;\n",
       "    }\n",
       "\n",
       "    .dataframe thead th {\n",
       "        text-align: right;\n",
       "    }\n",
       "</style>\n",
       "<table border=\"1\" class=\"dataframe\">\n",
       "  <thead>\n",
       "    <tr style=\"text-align: right;\">\n",
       "      <th></th>\n",
       "      <th>Class</th>\n",
       "      <th>Inflight wifi service</th>\n",
       "      <th>Departure/Arrival time convenient</th>\n",
       "      <th>Ease of Online booking</th>\n",
       "      <th>Gate location</th>\n",
       "      <th>Food and drink</th>\n",
       "      <th>Online boarding</th>\n",
       "      <th>Seat comfort</th>\n",
       "      <th>Inflight entertainment</th>\n",
       "      <th>On-board service</th>\n",
       "      <th>Leg room service</th>\n",
       "      <th>Baggage handling</th>\n",
       "      <th>Checkin service</th>\n",
       "      <th>Inflight service</th>\n",
       "      <th>Cleanliness</th>\n",
       "    </tr>\n",
       "  </thead>\n",
       "  <tbody>\n",
       "    <tr>\n",
       "      <th>0</th>\n",
       "      <td>Eco Plus</td>\n",
       "      <td>3</td>\n",
       "      <td>4</td>\n",
       "      <td>3</td>\n",
       "      <td>1</td>\n",
       "      <td>5</td>\n",
       "      <td>3</td>\n",
       "      <td>5</td>\n",
       "      <td>5</td>\n",
       "      <td>4</td>\n",
       "      <td>3</td>\n",
       "      <td>4</td>\n",
       "      <td>4</td>\n",
       "      <td>5</td>\n",
       "      <td>5</td>\n",
       "    </tr>\n",
       "    <tr>\n",
       "      <th>1</th>\n",
       "      <td>Business</td>\n",
       "      <td>3</td>\n",
       "      <td>2</td>\n",
       "      <td>3</td>\n",
       "      <td>3</td>\n",
       "      <td>1</td>\n",
       "      <td>3</td>\n",
       "      <td>1</td>\n",
       "      <td>1</td>\n",
       "      <td>1</td>\n",
       "      <td>5</td>\n",
       "      <td>3</td>\n",
       "      <td>1</td>\n",
       "      <td>4</td>\n",
       "      <td>1</td>\n",
       "    </tr>\n",
       "    <tr>\n",
       "      <th>2</th>\n",
       "      <td>Business</td>\n",
       "      <td>2</td>\n",
       "      <td>2</td>\n",
       "      <td>2</td>\n",
       "      <td>2</td>\n",
       "      <td>5</td>\n",
       "      <td>5</td>\n",
       "      <td>5</td>\n",
       "      <td>5</td>\n",
       "      <td>4</td>\n",
       "      <td>3</td>\n",
       "      <td>4</td>\n",
       "      <td>4</td>\n",
       "      <td>4</td>\n",
       "      <td>5</td>\n",
       "    </tr>\n",
       "    <tr>\n",
       "      <th>3</th>\n",
       "      <td>Business</td>\n",
       "      <td>2</td>\n",
       "      <td>5</td>\n",
       "      <td>5</td>\n",
       "      <td>5</td>\n",
       "      <td>2</td>\n",
       "      <td>2</td>\n",
       "      <td>2</td>\n",
       "      <td>2</td>\n",
       "      <td>2</td>\n",
       "      <td>5</td>\n",
       "      <td>3</td>\n",
       "      <td>1</td>\n",
       "      <td>4</td>\n",
       "      <td>2</td>\n",
       "    </tr>\n",
       "    <tr>\n",
       "      <th>4</th>\n",
       "      <td>Business</td>\n",
       "      <td>3</td>\n",
       "      <td>3</td>\n",
       "      <td>3</td>\n",
       "      <td>3</td>\n",
       "      <td>4</td>\n",
       "      <td>5</td>\n",
       "      <td>5</td>\n",
       "      <td>3</td>\n",
       "      <td>3</td>\n",
       "      <td>4</td>\n",
       "      <td>4</td>\n",
       "      <td>3</td>\n",
       "      <td>3</td>\n",
       "      <td>3</td>\n",
       "    </tr>\n",
       "    <tr>\n",
       "      <th>...</th>\n",
       "      <td>...</td>\n",
       "      <td>...</td>\n",
       "      <td>...</td>\n",
       "      <td>...</td>\n",
       "      <td>...</td>\n",
       "      <td>...</td>\n",
       "      <td>...</td>\n",
       "      <td>...</td>\n",
       "      <td>...</td>\n",
       "      <td>...</td>\n",
       "      <td>...</td>\n",
       "      <td>...</td>\n",
       "      <td>...</td>\n",
       "      <td>...</td>\n",
       "      <td>...</td>\n",
       "    </tr>\n",
       "    <tr>\n",
       "      <th>103899</th>\n",
       "      <td>Eco</td>\n",
       "      <td>2</td>\n",
       "      <td>1</td>\n",
       "      <td>2</td>\n",
       "      <td>3</td>\n",
       "      <td>2</td>\n",
       "      <td>2</td>\n",
       "      <td>2</td>\n",
       "      <td>2</td>\n",
       "      <td>3</td>\n",
       "      <td>1</td>\n",
       "      <td>4</td>\n",
       "      <td>2</td>\n",
       "      <td>3</td>\n",
       "      <td>2</td>\n",
       "    </tr>\n",
       "    <tr>\n",
       "      <th>103900</th>\n",
       "      <td>Business</td>\n",
       "      <td>4</td>\n",
       "      <td>4</td>\n",
       "      <td>4</td>\n",
       "      <td>4</td>\n",
       "      <td>2</td>\n",
       "      <td>4</td>\n",
       "      <td>5</td>\n",
       "      <td>5</td>\n",
       "      <td>5</td>\n",
       "      <td>5</td>\n",
       "      <td>5</td>\n",
       "      <td>5</td>\n",
       "      <td>5</td>\n",
       "      <td>4</td>\n",
       "    </tr>\n",
       "    <tr>\n",
       "      <th>103901</th>\n",
       "      <td>Business</td>\n",
       "      <td>1</td>\n",
       "      <td>1</td>\n",
       "      <td>1</td>\n",
       "      <td>3</td>\n",
       "      <td>4</td>\n",
       "      <td>1</td>\n",
       "      <td>5</td>\n",
       "      <td>4</td>\n",
       "      <td>3</td>\n",
       "      <td>2</td>\n",
       "      <td>4</td>\n",
       "      <td>5</td>\n",
       "      <td>5</td>\n",
       "      <td>4</td>\n",
       "    </tr>\n",
       "    <tr>\n",
       "      <th>103902</th>\n",
       "      <td>Eco</td>\n",
       "      <td>1</td>\n",
       "      <td>1</td>\n",
       "      <td>1</td>\n",
       "      <td>5</td>\n",
       "      <td>1</td>\n",
       "      <td>1</td>\n",
       "      <td>1</td>\n",
       "      <td>1</td>\n",
       "      <td>4</td>\n",
       "      <td>5</td>\n",
       "      <td>1</td>\n",
       "      <td>5</td>\n",
       "      <td>4</td>\n",
       "      <td>1</td>\n",
       "    </tr>\n",
       "    <tr>\n",
       "      <th>103903</th>\n",
       "      <td>Business</td>\n",
       "      <td>1</td>\n",
       "      <td>3</td>\n",
       "      <td>3</td>\n",
       "      <td>3</td>\n",
       "      <td>1</td>\n",
       "      <td>1</td>\n",
       "      <td>1</td>\n",
       "      <td>1</td>\n",
       "      <td>1</td>\n",
       "      <td>1</td>\n",
       "      <td>4</td>\n",
       "      <td>4</td>\n",
       "      <td>3</td>\n",
       "      <td>1</td>\n",
       "    </tr>\n",
       "  </tbody>\n",
       "</table>\n",
       "<p>103904 rows × 15 columns</p>\n",
       "</div>"
      ],
      "text/plain": [
       "           Class Inflight wifi service Departure/Arrival time convenient  \\\n",
       "0       Eco Plus                     3                                 4   \n",
       "1       Business                     3                                 2   \n",
       "2       Business                     2                                 2   \n",
       "3       Business                     2                                 5   \n",
       "4       Business                     3                                 3   \n",
       "...          ...                   ...                               ...   \n",
       "103899       Eco                     2                                 1   \n",
       "103900  Business                     4                                 4   \n",
       "103901  Business                     1                                 1   \n",
       "103902       Eco                     1                                 1   \n",
       "103903  Business                     1                                 3   \n",
       "\n",
       "       Ease of Online booking Gate location Food and drink Online boarding  \\\n",
       "0                           3             1              5               3   \n",
       "1                           3             3              1               3   \n",
       "2                           2             2              5               5   \n",
       "3                           5             5              2               2   \n",
       "4                           3             3              4               5   \n",
       "...                       ...           ...            ...             ...   \n",
       "103899                      2             3              2               2   \n",
       "103900                      4             4              2               4   \n",
       "103901                      1             3              4               1   \n",
       "103902                      1             5              1               1   \n",
       "103903                      3             3              1               1   \n",
       "\n",
       "       Seat comfort Inflight entertainment On-board service Leg room service  \\\n",
       "0                 5                      5                4                3   \n",
       "1                 1                      1                1                5   \n",
       "2                 5                      5                4                3   \n",
       "3                 2                      2                2                5   \n",
       "4                 5                      3                3                4   \n",
       "...             ...                    ...              ...              ...   \n",
       "103899            2                      2                3                1   \n",
       "103900            5                      5                5                5   \n",
       "103901            5                      4                3                2   \n",
       "103902            1                      1                4                5   \n",
       "103903            1                      1                1                1   \n",
       "\n",
       "       Baggage handling Checkin service Inflight service Cleanliness  \n",
       "0                     4               4                5           5  \n",
       "1                     3               1                4           1  \n",
       "2                     4               4                4           5  \n",
       "3                     3               1                4           2  \n",
       "4                     4               3                3           3  \n",
       "...                 ...             ...              ...         ...  \n",
       "103899                4               2                3           2  \n",
       "103900                5               5                5           4  \n",
       "103901                4               5                5           4  \n",
       "103902                1               5                4           1  \n",
       "103903                4               4                3           1  \n",
       "\n",
       "[103904 rows x 15 columns]"
      ]
     },
     "execution_count": 37,
     "metadata": {},
     "output_type": "execute_result"
    }
   ],
   "source": [
    "data[nonbinary_columns]"
   ]
  },
  {
   "cell_type": "markdown",
   "id": "0d9b7045",
   "metadata": {
    "papermill": {
     "duration": 0.032303,
     "end_time": "2023-07-16T18:43:35.625566",
     "exception": false,
     "start_time": "2023-07-16T18:43:35.593263",
     "status": "completed"
    },
    "tags": []
   },
   "source": [
    "Aşağıdaki vektörleştirme yöntemi, ikili olmayan özellikler için geçerlidir:\n",
    "\n",
    "s değer alan özellik j, orijinal özellik j'nin değerinin ne olduğuna bağlı olarak 0 veya 1 değerlerini alan s özelliklerle değiştirilecektir.\n",
    "\n",
    "Bu vektörleştirme, get_dummies yöntemiyle gerçekleştirilir:"
   ]
  },
  {
   "cell_type": "code",
   "execution_count": 38,
   "id": "cd8157b5",
   "metadata": {
    "execution": {
     "iopub.execute_input": "2023-07-16T18:43:35.692912Z",
     "iopub.status.busy": "2023-07-16T18:43:35.691761Z",
     "iopub.status.idle": "2023-07-16T18:43:35.786738Z",
     "shell.execute_reply": "2023-07-16T18:43:35.785222Z"
    },
    "papermill": {
     "duration": 0.131041,
     "end_time": "2023-07-16T18:43:35.789202",
     "exception": false,
     "start_time": "2023-07-16T18:43:35.658161",
     "status": "completed"
    },
    "tags": []
   },
   "outputs": [
    {
     "name": "stdout",
     "output_type": "stream",
     "text": [
      "Index(['Class_Business', 'Class_Eco', 'Class_Eco Plus',\n",
      "       'Inflight wifi service_0', 'Inflight wifi service_1',\n",
      "       'Inflight wifi service_2', 'Inflight wifi service_3',\n",
      "       'Inflight wifi service_4', 'Inflight wifi service_5',\n",
      "       'Departure/Arrival time convenient_0',\n",
      "       'Departure/Arrival time convenient_1',\n",
      "       'Departure/Arrival time convenient_2',\n",
      "       'Departure/Arrival time convenient_3',\n",
      "       'Departure/Arrival time convenient_4',\n",
      "       'Departure/Arrival time convenient_5', 'Ease of Online booking_0',\n",
      "       'Ease of Online booking_1', 'Ease of Online booking_2',\n",
      "       'Ease of Online booking_3', 'Ease of Online booking_4',\n",
      "       'Ease of Online booking_5', 'Gate location_0', 'Gate location_1',\n",
      "       'Gate location_2', 'Gate location_3', 'Gate location_4',\n",
      "       'Gate location_5', 'Food and drink_0', 'Food and drink_1',\n",
      "       'Food and drink_2', 'Food and drink_3', 'Food and drink_4',\n",
      "       'Food and drink_5', 'Online boarding_0', 'Online boarding_1',\n",
      "       'Online boarding_2', 'Online boarding_3', 'Online boarding_4',\n",
      "       'Online boarding_5', 'Seat comfort_0', 'Seat comfort_1',\n",
      "       'Seat comfort_2', 'Seat comfort_3', 'Seat comfort_4', 'Seat comfort_5',\n",
      "       'Inflight entertainment_0', 'Inflight entertainment_1',\n",
      "       'Inflight entertainment_2', 'Inflight entertainment_3',\n",
      "       'Inflight entertainment_4', 'Inflight entertainment_5',\n",
      "       'On-board service_0', 'On-board service_1', 'On-board service_2',\n",
      "       'On-board service_3', 'On-board service_4', 'On-board service_5',\n",
      "       'Leg room service_0', 'Leg room service_1', 'Leg room service_2',\n",
      "       'Leg room service_3', 'Leg room service_4', 'Leg room service_5',\n",
      "       'Baggage handling_1', 'Baggage handling_2', 'Baggage handling_3',\n",
      "       'Baggage handling_4', 'Baggage handling_5', 'Checkin service_0',\n",
      "       'Checkin service_1', 'Checkin service_2', 'Checkin service_3',\n",
      "       'Checkin service_4', 'Checkin service_5', 'Inflight service_0',\n",
      "       'Inflight service_1', 'Inflight service_2', 'Inflight service_3',\n",
      "       'Inflight service_4', 'Inflight service_5', 'Cleanliness_0',\n",
      "       'Cleanliness_1', 'Cleanliness_2', 'Cleanliness_3', 'Cleanliness_4',\n",
      "       'Cleanliness_5'],\n",
      "      dtype='object')\n"
     ]
    }
   ],
   "source": [
    "data_nonbinary = pd.get_dummies(data[nonbinary_columns])\n",
    "print(data_nonbinary.columns)"
   ]
  },
  {
   "cell_type": "code",
   "execution_count": 39,
   "id": "3fa2173d",
   "metadata": {
    "execution": {
     "iopub.execute_input": "2023-07-16T18:43:35.858854Z",
     "iopub.status.busy": "2023-07-16T18:43:35.857712Z",
     "iopub.status.idle": "2023-07-16T18:43:35.863931Z",
     "shell.execute_reply": "2023-07-16T18:43:35.863093Z"
    },
    "papermill": {
     "duration": 0.042414,
     "end_time": "2023-07-16T18:43:35.866009",
     "exception": false,
     "start_time": "2023-07-16T18:43:35.823595",
     "status": "completed"
    },
    "tags": []
   },
   "outputs": [
    {
     "data": {
      "text/plain": [
       "86"
      ]
     },
     "execution_count": 39,
     "metadata": {},
     "output_type": "execute_result"
    }
   ],
   "source": [
    "len(data_nonbinary.columns)"
   ]
  },
  {
   "cell_type": "markdown",
   "id": "753f3884",
   "metadata": {
    "papermill": {
     "duration": 0.03231,
     "end_time": "2023-07-16T18:43:35.930791",
     "exception": false,
     "start_time": "2023-07-16T18:43:35.898481",
     "status": "completed"
    },
    "tags": []
   },
   "source": [
    "<div style=\"border-width:1; border-radius: 15px; border-style: solid; border-color: rgb(10, 10, 10); background-color: #9370D8; text-align: center;font: 14pt 'Candara';font-weight:bold;\"><h1>Normalization of quantitative features\n",
    "</h1></div>"
   ]
  },
  {
   "cell_type": "code",
   "execution_count": 40,
   "id": "53a2eb47",
   "metadata": {
    "execution": {
     "iopub.execute_input": "2023-07-16T18:43:35.997547Z",
     "iopub.status.busy": "2023-07-16T18:43:35.996852Z",
     "iopub.status.idle": "2023-07-16T18:43:36.036025Z",
     "shell.execute_reply": "2023-07-16T18:43:36.035222Z"
    },
    "papermill": {
     "duration": 0.074861,
     "end_time": "2023-07-16T18:43:36.037983",
     "exception": false,
     "start_time": "2023-07-16T18:43:35.963122",
     "status": "completed"
    },
    "tags": []
   },
   "outputs": [
    {
     "data": {
      "text/html": [
       "<div>\n",
       "<style scoped>\n",
       "    .dataframe tbody tr th:only-of-type {\n",
       "        vertical-align: middle;\n",
       "    }\n",
       "\n",
       "    .dataframe tbody tr th {\n",
       "        vertical-align: top;\n",
       "    }\n",
       "\n",
       "    .dataframe thead th {\n",
       "        text-align: right;\n",
       "    }\n",
       "</style>\n",
       "<table border=\"1\" class=\"dataframe\">\n",
       "  <thead>\n",
       "    <tr style=\"text-align: right;\">\n",
       "      <th></th>\n",
       "      <th>Age</th>\n",
       "      <th>Flight Distance</th>\n",
       "      <th>Departure Delay in Minutes</th>\n",
       "      <th>Arrival Delay in Minutes</th>\n",
       "    </tr>\n",
       "  </thead>\n",
       "  <tbody>\n",
       "    <tr>\n",
       "      <th>count</th>\n",
       "      <td>103904.000000</td>\n",
       "      <td>103904.000000</td>\n",
       "      <td>103904.000000</td>\n",
       "      <td>103904.000000</td>\n",
       "    </tr>\n",
       "    <tr>\n",
       "      <th>mean</th>\n",
       "      <td>39.379706</td>\n",
       "      <td>1189.448375</td>\n",
       "      <td>14.815618</td>\n",
       "      <td>15.133392</td>\n",
       "    </tr>\n",
       "    <tr>\n",
       "      <th>std</th>\n",
       "      <td>15.114964</td>\n",
       "      <td>997.147281</td>\n",
       "      <td>38.230901</td>\n",
       "      <td>38.649776</td>\n",
       "    </tr>\n",
       "    <tr>\n",
       "      <th>min</th>\n",
       "      <td>7.000000</td>\n",
       "      <td>31.000000</td>\n",
       "      <td>0.000000</td>\n",
       "      <td>0.000000</td>\n",
       "    </tr>\n",
       "    <tr>\n",
       "      <th>25%</th>\n",
       "      <td>27.000000</td>\n",
       "      <td>414.000000</td>\n",
       "      <td>0.000000</td>\n",
       "      <td>0.000000</td>\n",
       "    </tr>\n",
       "    <tr>\n",
       "      <th>50%</th>\n",
       "      <td>40.000000</td>\n",
       "      <td>843.000000</td>\n",
       "      <td>0.000000</td>\n",
       "      <td>0.000000</td>\n",
       "    </tr>\n",
       "    <tr>\n",
       "      <th>75%</th>\n",
       "      <td>51.000000</td>\n",
       "      <td>1743.000000</td>\n",
       "      <td>12.000000</td>\n",
       "      <td>13.000000</td>\n",
       "    </tr>\n",
       "    <tr>\n",
       "      <th>max</th>\n",
       "      <td>85.000000</td>\n",
       "      <td>4983.000000</td>\n",
       "      <td>1592.000000</td>\n",
       "      <td>1584.000000</td>\n",
       "    </tr>\n",
       "  </tbody>\n",
       "</table>\n",
       "</div>"
      ],
      "text/plain": [
       "                 Age  Flight Distance  Departure Delay in Minutes  \\\n",
       "count  103904.000000    103904.000000               103904.000000   \n",
       "mean       39.379706      1189.448375                   14.815618   \n",
       "std        15.114964       997.147281                   38.230901   \n",
       "min         7.000000        31.000000                    0.000000   \n",
       "25%        27.000000       414.000000                    0.000000   \n",
       "50%        40.000000       843.000000                    0.000000   \n",
       "75%        51.000000      1743.000000                   12.000000   \n",
       "max        85.000000      4983.000000                 1592.000000   \n",
       "\n",
       "       Arrival Delay in Minutes  \n",
       "count             103904.000000  \n",
       "mean                  15.133392  \n",
       "std                   38.649776  \n",
       "min                    0.000000  \n",
       "25%                    0.000000  \n",
       "50%                    0.000000  \n",
       "75%                   13.000000  \n",
       "max                 1584.000000  "
      ]
     },
     "execution_count": 40,
     "metadata": {},
     "output_type": "execute_result"
    }
   ],
   "source": [
    "data_numerical = data[numerical_columns]\n",
    "data_numerical.describe()"
   ]
  },
  {
   "cell_type": "markdown",
   "id": "10e0c355",
   "metadata": {
    "papermill": {
     "duration": 0.0527,
     "end_time": "2023-07-16T18:43:36.123292",
     "exception": false,
     "start_time": "2023-07-16T18:43:36.070592",
     "status": "completed"
    },
    "tags": []
   },
   "source": [
    "Tüm nicel özellikler için bir standardizasyon (tüm değerleri sıfır ortalama ve bir standart sapmaya indirgeyen doğrusal dönüşüm) gerçekleştirelim:"
   ]
  },
  {
   "cell_type": "code",
   "execution_count": 41,
   "id": "ef86a5a5",
   "metadata": {
    "execution": {
     "iopub.execute_input": "2023-07-16T18:43:36.190921Z",
     "iopub.status.busy": "2023-07-16T18:43:36.190205Z",
     "iopub.status.idle": "2023-07-16T18:43:36.207255Z",
     "shell.execute_reply": "2023-07-16T18:43:36.206088Z"
    },
    "papermill": {
     "duration": 0.053438,
     "end_time": "2023-07-16T18:43:36.209890",
     "exception": false,
     "start_time": "2023-07-16T18:43:36.156452",
     "status": "completed"
    },
    "tags": []
   },
   "outputs": [],
   "source": [
    "data_numerical = (data_numerical - data_numerical.mean(axis = 0))/data_numerical.std(axis = 0)"
   ]
  },
  {
   "cell_type": "code",
   "execution_count": 42,
   "id": "defe3c65",
   "metadata": {
    "execution": {
     "iopub.execute_input": "2023-07-16T18:43:36.278564Z",
     "iopub.status.busy": "2023-07-16T18:43:36.278165Z",
     "iopub.status.idle": "2023-07-16T18:43:36.322043Z",
     "shell.execute_reply": "2023-07-16T18:43:36.320952Z"
    },
    "papermill": {
     "duration": 0.081128,
     "end_time": "2023-07-16T18:43:36.324504",
     "exception": false,
     "start_time": "2023-07-16T18:43:36.243376",
     "status": "completed"
    },
    "tags": []
   },
   "outputs": [
    {
     "data": {
      "text/html": [
       "<div>\n",
       "<style scoped>\n",
       "    .dataframe tbody tr th:only-of-type {\n",
       "        vertical-align: middle;\n",
       "    }\n",
       "\n",
       "    .dataframe tbody tr th {\n",
       "        vertical-align: top;\n",
       "    }\n",
       "\n",
       "    .dataframe thead th {\n",
       "        text-align: right;\n",
       "    }\n",
       "</style>\n",
       "<table border=\"1\" class=\"dataframe\">\n",
       "  <thead>\n",
       "    <tr style=\"text-align: right;\">\n",
       "      <th></th>\n",
       "      <th>Age</th>\n",
       "      <th>Flight Distance</th>\n",
       "      <th>Departure Delay in Minutes</th>\n",
       "      <th>Arrival Delay in Minutes</th>\n",
       "    </tr>\n",
       "  </thead>\n",
       "  <tbody>\n",
       "    <tr>\n",
       "      <th>count</th>\n",
       "      <td>1.039040e+05</td>\n",
       "      <td>1.039040e+05</td>\n",
       "      <td>1.039040e+05</td>\n",
       "      <td>1.039040e+05</td>\n",
       "    </tr>\n",
       "    <tr>\n",
       "      <th>mean</th>\n",
       "      <td>-2.549034e-17</td>\n",
       "      <td>8.000991e-17</td>\n",
       "      <td>1.853221e-17</td>\n",
       "      <td>1.463429e-17</td>\n",
       "    </tr>\n",
       "    <tr>\n",
       "      <th>std</th>\n",
       "      <td>1.000000e+00</td>\n",
       "      <td>1.000000e+00</td>\n",
       "      <td>1.000000e+00</td>\n",
       "      <td>1.000000e+00</td>\n",
       "    </tr>\n",
       "    <tr>\n",
       "      <th>min</th>\n",
       "      <td>-2.142229e+00</td>\n",
       "      <td>-1.161763e+00</td>\n",
       "      <td>-3.875299e-01</td>\n",
       "      <td>-3.915519e-01</td>\n",
       "    </tr>\n",
       "    <tr>\n",
       "      <th>25%</th>\n",
       "      <td>-8.190365e-01</td>\n",
       "      <td>-7.776668e-01</td>\n",
       "      <td>-3.875299e-01</td>\n",
       "      <td>-3.915519e-01</td>\n",
       "    </tr>\n",
       "    <tr>\n",
       "      <th>50%</th>\n",
       "      <td>4.103839e-02</td>\n",
       "      <td>-3.474395e-01</td>\n",
       "      <td>-3.875299e-01</td>\n",
       "      <td>-3.915519e-01</td>\n",
       "    </tr>\n",
       "    <tr>\n",
       "      <th>75%</th>\n",
       "      <td>7.687940e-01</td>\n",
       "      <td>5.551353e-01</td>\n",
       "      <td>-7.364771e-02</td>\n",
       "      <td>-5.519805e-02</td>\n",
       "    </tr>\n",
       "    <tr>\n",
       "      <th>max</th>\n",
       "      <td>3.018221e+00</td>\n",
       "      <td>3.804405e+00</td>\n",
       "      <td>4.125418e+01</td>\n",
       "      <td>4.059187e+01</td>\n",
       "    </tr>\n",
       "  </tbody>\n",
       "</table>\n",
       "</div>"
      ],
      "text/plain": [
       "                Age  Flight Distance  Departure Delay in Minutes  \\\n",
       "count  1.039040e+05     1.039040e+05                1.039040e+05   \n",
       "mean  -2.549034e-17     8.000991e-17                1.853221e-17   \n",
       "std    1.000000e+00     1.000000e+00                1.000000e+00   \n",
       "min   -2.142229e+00    -1.161763e+00               -3.875299e-01   \n",
       "25%   -8.190365e-01    -7.776668e-01               -3.875299e-01   \n",
       "50%    4.103839e-02    -3.474395e-01               -3.875299e-01   \n",
       "75%    7.687940e-01     5.551353e-01               -7.364771e-02   \n",
       "max    3.018221e+00     3.804405e+00                4.125418e+01   \n",
       "\n",
       "       Arrival Delay in Minutes  \n",
       "count              1.039040e+05  \n",
       "mean               1.463429e-17  \n",
       "std                1.000000e+00  \n",
       "min               -3.915519e-01  \n",
       "25%               -3.915519e-01  \n",
       "50%               -3.915519e-01  \n",
       "75%               -5.519805e-02  \n",
       "max                4.059187e+01  "
      ]
     },
     "execution_count": 42,
     "metadata": {},
     "output_type": "execute_result"
    }
   ],
   "source": [
    "data_numerical.describe()"
   ]
  },
  {
   "cell_type": "markdown",
   "id": "edde5fc1",
   "metadata": {
    "papermill": {
     "duration": 0.033857,
     "end_time": "2023-07-16T18:43:36.392152",
     "exception": false,
     "start_time": "2023-07-16T18:43:36.358295",
     "status": "completed"
    },
    "tags": []
   },
   "source": [
    "<div style=\"border-width:1; border-radius: 15px; border-style: solid; border-color: rgb(10, 10, 10); background-color: #9370D8; text-align: center;font: 14pt 'Candara';font-weight:bold;\"><h1>Table formation\n",
    "</h1></div>"
   ]
  },
  {
   "cell_type": "markdown",
   "id": "d41ffc02",
   "metadata": {
    "papermill": {
     "duration": 0.032849,
     "end_time": "2023-07-16T18:43:36.459426",
     "exception": false,
     "start_time": "2023-07-16T18:43:36.426577",
     "status": "completed"
    },
    "tags": []
   },
   "source": [
    "Dönüştürülen tüm sütunları tek bir tabloda birleştiriyoruz:"
   ]
  },
  {
   "cell_type": "code",
   "execution_count": 43,
   "id": "636613fc",
   "metadata": {
    "execution": {
     "iopub.execute_input": "2023-07-16T18:43:36.528510Z",
     "iopub.status.busy": "2023-07-16T18:43:36.527801Z",
     "iopub.status.idle": "2023-07-16T18:43:36.552308Z",
     "shell.execute_reply": "2023-07-16T18:43:36.551168Z"
    },
    "papermill": {
     "duration": 0.061569,
     "end_time": "2023-07-16T18:43:36.554453",
     "exception": false,
     "start_time": "2023-07-16T18:43:36.492884",
     "status": "completed"
    },
    "tags": []
   },
   "outputs": [
    {
     "name": "stdout",
     "output_type": "stream",
     "text": [
      "(103904, 93)\n"
     ]
    }
   ],
   "source": [
    "target = data['satisfaction']\n",
    "data = pd.concat((data_numerical, data_nonbinary, data[binary_columns]), axis = 1)\n",
    "print(data.shape)"
   ]
  },
  {
   "cell_type": "code",
   "execution_count": 44,
   "id": "dd69ad57",
   "metadata": {
    "execution": {
     "iopub.execute_input": "2023-07-16T18:43:36.623497Z",
     "iopub.status.busy": "2023-07-16T18:43:36.623044Z",
     "iopub.status.idle": "2023-07-16T18:43:37.015517Z",
     "shell.execute_reply": "2023-07-16T18:43:37.014443Z"
    },
    "papermill": {
     "duration": 0.429967,
     "end_time": "2023-07-16T18:43:37.017864",
     "exception": false,
     "start_time": "2023-07-16T18:43:36.587897",
     "status": "completed"
    },
    "tags": []
   },
   "outputs": [
    {
     "data": {
      "text/html": [
       "<div>\n",
       "<style scoped>\n",
       "    .dataframe tbody tr th:only-of-type {\n",
       "        vertical-align: middle;\n",
       "    }\n",
       "\n",
       "    .dataframe tbody tr th {\n",
       "        vertical-align: top;\n",
       "    }\n",
       "\n",
       "    .dataframe thead th {\n",
       "        text-align: right;\n",
       "    }\n",
       "</style>\n",
       "<table border=\"1\" class=\"dataframe\">\n",
       "  <thead>\n",
       "    <tr style=\"text-align: right;\">\n",
       "      <th></th>\n",
       "      <th>Age</th>\n",
       "      <th>Flight Distance</th>\n",
       "      <th>Departure Delay in Minutes</th>\n",
       "      <th>Arrival Delay in Minutes</th>\n",
       "      <th>Class_Business</th>\n",
       "      <th>Class_Eco</th>\n",
       "      <th>Class_Eco Plus</th>\n",
       "      <th>Inflight wifi service_0</th>\n",
       "      <th>Inflight wifi service_1</th>\n",
       "      <th>Inflight wifi service_2</th>\n",
       "      <th>...</th>\n",
       "      <th>Inflight service_2</th>\n",
       "      <th>Inflight service_3</th>\n",
       "      <th>Inflight service_4</th>\n",
       "      <th>Inflight service_5</th>\n",
       "      <th>Cleanliness_0</th>\n",
       "      <th>Cleanliness_1</th>\n",
       "      <th>Cleanliness_2</th>\n",
       "      <th>Cleanliness_3</th>\n",
       "      <th>Cleanliness_4</th>\n",
       "      <th>Cleanliness_5</th>\n",
       "    </tr>\n",
       "  </thead>\n",
       "  <tbody>\n",
       "    <tr>\n",
       "      <th>count</th>\n",
       "      <td>1.039040e+05</td>\n",
       "      <td>1.039040e+05</td>\n",
       "      <td>1.039040e+05</td>\n",
       "      <td>1.039040e+05</td>\n",
       "      <td>103904.000000</td>\n",
       "      <td>103904.000000</td>\n",
       "      <td>103904.000000</td>\n",
       "      <td>103904.000000</td>\n",
       "      <td>103904.000000</td>\n",
       "      <td>103904.000000</td>\n",
       "      <td>...</td>\n",
       "      <td>103904.000000</td>\n",
       "      <td>103904.000000</td>\n",
       "      <td>103904.000000</td>\n",
       "      <td>103904.000000</td>\n",
       "      <td>103904.000000</td>\n",
       "      <td>103904.000000</td>\n",
       "      <td>103904.000000</td>\n",
       "      <td>103904.000000</td>\n",
       "      <td>103904.000000</td>\n",
       "      <td>103904.000000</td>\n",
       "    </tr>\n",
       "    <tr>\n",
       "      <th>mean</th>\n",
       "      <td>-2.549034e-17</td>\n",
       "      <td>8.000991e-17</td>\n",
       "      <td>1.853221e-17</td>\n",
       "      <td>1.463429e-17</td>\n",
       "      <td>0.477989</td>\n",
       "      <td>0.449886</td>\n",
       "      <td>0.072124</td>\n",
       "      <td>0.029864</td>\n",
       "      <td>0.171697</td>\n",
       "      <td>0.248595</td>\n",
       "      <td>...</td>\n",
       "      <td>0.110265</td>\n",
       "      <td>0.195363</td>\n",
       "      <td>0.365193</td>\n",
       "      <td>0.260972</td>\n",
       "      <td>0.000115</td>\n",
       "      <td>0.128176</td>\n",
       "      <td>0.155259</td>\n",
       "      <td>0.236507</td>\n",
       "      <td>0.261578</td>\n",
       "      <td>0.218365</td>\n",
       "    </tr>\n",
       "    <tr>\n",
       "      <th>std</th>\n",
       "      <td>1.000000e+00</td>\n",
       "      <td>1.000000e+00</td>\n",
       "      <td>1.000000e+00</td>\n",
       "      <td>1.000000e+00</td>\n",
       "      <td>0.499518</td>\n",
       "      <td>0.497485</td>\n",
       "      <td>0.258695</td>\n",
       "      <td>0.170213</td>\n",
       "      <td>0.377119</td>\n",
       "      <td>0.432200</td>\n",
       "      <td>...</td>\n",
       "      <td>0.313222</td>\n",
       "      <td>0.396482</td>\n",
       "      <td>0.481487</td>\n",
       "      <td>0.439167</td>\n",
       "      <td>0.010746</td>\n",
       "      <td>0.334287</td>\n",
       "      <td>0.362153</td>\n",
       "      <td>0.424939</td>\n",
       "      <td>0.439496</td>\n",
       "      <td>0.413138</td>\n",
       "    </tr>\n",
       "    <tr>\n",
       "      <th>min</th>\n",
       "      <td>-2.142229e+00</td>\n",
       "      <td>-1.161763e+00</td>\n",
       "      <td>-3.875299e-01</td>\n",
       "      <td>-3.915519e-01</td>\n",
       "      <td>0.000000</td>\n",
       "      <td>0.000000</td>\n",
       "      <td>0.000000</td>\n",
       "      <td>0.000000</td>\n",
       "      <td>0.000000</td>\n",
       "      <td>0.000000</td>\n",
       "      <td>...</td>\n",
       "      <td>0.000000</td>\n",
       "      <td>0.000000</td>\n",
       "      <td>0.000000</td>\n",
       "      <td>0.000000</td>\n",
       "      <td>0.000000</td>\n",
       "      <td>0.000000</td>\n",
       "      <td>0.000000</td>\n",
       "      <td>0.000000</td>\n",
       "      <td>0.000000</td>\n",
       "      <td>0.000000</td>\n",
       "    </tr>\n",
       "    <tr>\n",
       "      <th>25%</th>\n",
       "      <td>-8.190365e-01</td>\n",
       "      <td>-7.776668e-01</td>\n",
       "      <td>-3.875299e-01</td>\n",
       "      <td>-3.915519e-01</td>\n",
       "      <td>0.000000</td>\n",
       "      <td>0.000000</td>\n",
       "      <td>0.000000</td>\n",
       "      <td>0.000000</td>\n",
       "      <td>0.000000</td>\n",
       "      <td>0.000000</td>\n",
       "      <td>...</td>\n",
       "      <td>0.000000</td>\n",
       "      <td>0.000000</td>\n",
       "      <td>0.000000</td>\n",
       "      <td>0.000000</td>\n",
       "      <td>0.000000</td>\n",
       "      <td>0.000000</td>\n",
       "      <td>0.000000</td>\n",
       "      <td>0.000000</td>\n",
       "      <td>0.000000</td>\n",
       "      <td>0.000000</td>\n",
       "    </tr>\n",
       "    <tr>\n",
       "      <th>50%</th>\n",
       "      <td>4.103839e-02</td>\n",
       "      <td>-3.474395e-01</td>\n",
       "      <td>-3.875299e-01</td>\n",
       "      <td>-3.915519e-01</td>\n",
       "      <td>0.000000</td>\n",
       "      <td>0.000000</td>\n",
       "      <td>0.000000</td>\n",
       "      <td>0.000000</td>\n",
       "      <td>0.000000</td>\n",
       "      <td>0.000000</td>\n",
       "      <td>...</td>\n",
       "      <td>0.000000</td>\n",
       "      <td>0.000000</td>\n",
       "      <td>0.000000</td>\n",
       "      <td>0.000000</td>\n",
       "      <td>0.000000</td>\n",
       "      <td>0.000000</td>\n",
       "      <td>0.000000</td>\n",
       "      <td>0.000000</td>\n",
       "      <td>0.000000</td>\n",
       "      <td>0.000000</td>\n",
       "    </tr>\n",
       "    <tr>\n",
       "      <th>75%</th>\n",
       "      <td>7.687940e-01</td>\n",
       "      <td>5.551353e-01</td>\n",
       "      <td>-7.364771e-02</td>\n",
       "      <td>-5.519805e-02</td>\n",
       "      <td>1.000000</td>\n",
       "      <td>1.000000</td>\n",
       "      <td>0.000000</td>\n",
       "      <td>0.000000</td>\n",
       "      <td>0.000000</td>\n",
       "      <td>0.000000</td>\n",
       "      <td>...</td>\n",
       "      <td>0.000000</td>\n",
       "      <td>0.000000</td>\n",
       "      <td>1.000000</td>\n",
       "      <td>1.000000</td>\n",
       "      <td>0.000000</td>\n",
       "      <td>0.000000</td>\n",
       "      <td>0.000000</td>\n",
       "      <td>0.000000</td>\n",
       "      <td>1.000000</td>\n",
       "      <td>0.000000</td>\n",
       "    </tr>\n",
       "    <tr>\n",
       "      <th>max</th>\n",
       "      <td>3.018221e+00</td>\n",
       "      <td>3.804405e+00</td>\n",
       "      <td>4.125418e+01</td>\n",
       "      <td>4.059187e+01</td>\n",
       "      <td>1.000000</td>\n",
       "      <td>1.000000</td>\n",
       "      <td>1.000000</td>\n",
       "      <td>1.000000</td>\n",
       "      <td>1.000000</td>\n",
       "      <td>1.000000</td>\n",
       "      <td>...</td>\n",
       "      <td>1.000000</td>\n",
       "      <td>1.000000</td>\n",
       "      <td>1.000000</td>\n",
       "      <td>1.000000</td>\n",
       "      <td>1.000000</td>\n",
       "      <td>1.000000</td>\n",
       "      <td>1.000000</td>\n",
       "      <td>1.000000</td>\n",
       "      <td>1.000000</td>\n",
       "      <td>1.000000</td>\n",
       "    </tr>\n",
       "  </tbody>\n",
       "</table>\n",
       "<p>8 rows × 90 columns</p>\n",
       "</div>"
      ],
      "text/plain": [
       "                Age  Flight Distance  Departure Delay in Minutes  \\\n",
       "count  1.039040e+05     1.039040e+05                1.039040e+05   \n",
       "mean  -2.549034e-17     8.000991e-17                1.853221e-17   \n",
       "std    1.000000e+00     1.000000e+00                1.000000e+00   \n",
       "min   -2.142229e+00    -1.161763e+00               -3.875299e-01   \n",
       "25%   -8.190365e-01    -7.776668e-01               -3.875299e-01   \n",
       "50%    4.103839e-02    -3.474395e-01               -3.875299e-01   \n",
       "75%    7.687940e-01     5.551353e-01               -7.364771e-02   \n",
       "max    3.018221e+00     3.804405e+00                4.125418e+01   \n",
       "\n",
       "       Arrival Delay in Minutes  Class_Business      Class_Eco  \\\n",
       "count              1.039040e+05   103904.000000  103904.000000   \n",
       "mean               1.463429e-17        0.477989       0.449886   \n",
       "std                1.000000e+00        0.499518       0.497485   \n",
       "min               -3.915519e-01        0.000000       0.000000   \n",
       "25%               -3.915519e-01        0.000000       0.000000   \n",
       "50%               -3.915519e-01        0.000000       0.000000   \n",
       "75%               -5.519805e-02        1.000000       1.000000   \n",
       "max                4.059187e+01        1.000000       1.000000   \n",
       "\n",
       "       Class_Eco Plus  Inflight wifi service_0  Inflight wifi service_1  \\\n",
       "count   103904.000000            103904.000000            103904.000000   \n",
       "mean         0.072124                 0.029864                 0.171697   \n",
       "std          0.258695                 0.170213                 0.377119   \n",
       "min          0.000000                 0.000000                 0.000000   \n",
       "25%          0.000000                 0.000000                 0.000000   \n",
       "50%          0.000000                 0.000000                 0.000000   \n",
       "75%          0.000000                 0.000000                 0.000000   \n",
       "max          1.000000                 1.000000                 1.000000   \n",
       "\n",
       "       Inflight wifi service_2  ...  Inflight service_2  Inflight service_3  \\\n",
       "count            103904.000000  ...       103904.000000       103904.000000   \n",
       "mean                  0.248595  ...            0.110265            0.195363   \n",
       "std                   0.432200  ...            0.313222            0.396482   \n",
       "min                   0.000000  ...            0.000000            0.000000   \n",
       "25%                   0.000000  ...            0.000000            0.000000   \n",
       "50%                   0.000000  ...            0.000000            0.000000   \n",
       "75%                   0.000000  ...            0.000000            0.000000   \n",
       "max                   1.000000  ...            1.000000            1.000000   \n",
       "\n",
       "       Inflight service_4  Inflight service_5  Cleanliness_0  Cleanliness_1  \\\n",
       "count       103904.000000       103904.000000  103904.000000  103904.000000   \n",
       "mean             0.365193            0.260972       0.000115       0.128176   \n",
       "std              0.481487            0.439167       0.010746       0.334287   \n",
       "min              0.000000            0.000000       0.000000       0.000000   \n",
       "25%              0.000000            0.000000       0.000000       0.000000   \n",
       "50%              0.000000            0.000000       0.000000       0.000000   \n",
       "75%              1.000000            1.000000       0.000000       0.000000   \n",
       "max              1.000000            1.000000       1.000000       1.000000   \n",
       "\n",
       "       Cleanliness_2  Cleanliness_3  Cleanliness_4  Cleanliness_5  \n",
       "count  103904.000000  103904.000000  103904.000000  103904.000000  \n",
       "mean        0.155259       0.236507       0.261578       0.218365  \n",
       "std         0.362153       0.424939       0.439496       0.413138  \n",
       "min         0.000000       0.000000       0.000000       0.000000  \n",
       "25%         0.000000       0.000000       0.000000       0.000000  \n",
       "50%         0.000000       0.000000       0.000000       0.000000  \n",
       "75%         0.000000       0.000000       1.000000       0.000000  \n",
       "max         1.000000       1.000000       1.000000       1.000000  \n",
       "\n",
       "[8 rows x 90 columns]"
      ]
     },
     "execution_count": 44,
     "metadata": {},
     "output_type": "execute_result"
    }
   ],
   "source": [
    "data.describe()"
   ]
  },
  {
   "cell_type": "markdown",
   "id": "0014b115",
   "metadata": {
    "papermill": {
     "duration": 0.033628,
     "end_time": "2023-07-16T18:43:37.084921",
     "exception": false,
     "start_time": "2023-07-16T18:43:37.051293",
     "status": "completed"
    },
    "tags": []
   },
   "source": [
    "<div style=\"border-width:1; border-radius: 15px; border-style: solid; border-color: rgb(10, 10, 10); background-color: #9370D8; text-align: center;font: 14pt 'Candara';font-weight:bold;\"><h2>Splitting the data on training and test sets\n",
    "\n",
    "</h2></div>"
   ]
  },
  {
   "cell_type": "code",
   "execution_count": 45,
   "id": "c6913e21",
   "metadata": {
    "execution": {
     "iopub.execute_input": "2023-07-16T18:43:37.154213Z",
     "iopub.status.busy": "2023-07-16T18:43:37.153797Z",
     "iopub.status.idle": "2023-07-16T18:43:37.160845Z",
     "shell.execute_reply": "2023-07-16T18:43:37.159791Z"
    },
    "papermill": {
     "duration": 0.044663,
     "end_time": "2023-07-16T18:43:37.163147",
     "exception": false,
     "start_time": "2023-07-16T18:43:37.118484",
     "status": "completed"
    },
    "tags": []
   },
   "outputs": [
    {
     "data": {
      "text/plain": [
       "(103904, 93)"
      ]
     },
     "execution_count": 45,
     "metadata": {},
     "output_type": "execute_result"
    }
   ],
   "source": [
    "X = data\n",
    "y = target\n",
    "N, d = X.shape\n",
    "N, d"
   ]
  },
  {
   "cell_type": "code",
   "execution_count": 46,
   "id": "f6ee0329",
   "metadata": {
    "execution": {
     "iopub.execute_input": "2023-07-16T18:43:37.233286Z",
     "iopub.status.busy": "2023-07-16T18:43:37.231991Z",
     "iopub.status.idle": "2023-07-16T18:43:37.241337Z",
     "shell.execute_reply": "2023-07-16T18:43:37.240204Z"
    },
    "papermill": {
     "duration": 0.046799,
     "end_time": "2023-07-16T18:43:37.243647",
     "exception": false,
     "start_time": "2023-07-16T18:43:37.196848",
     "status": "completed"
    },
    "tags": []
   },
   "outputs": [
    {
     "data": {
      "text/plain": [
       "Index(['Age', 'Flight Distance', 'Departure Delay in Minutes',\n",
       "       'Arrival Delay in Minutes', 'Class_Business', 'Class_Eco',\n",
       "       'Class_Eco Plus', 'Inflight wifi service_0', 'Inflight wifi service_1',\n",
       "       'Inflight wifi service_2', 'Inflight wifi service_3',\n",
       "       'Inflight wifi service_4', 'Inflight wifi service_5',\n",
       "       'Departure/Arrival time convenient_0',\n",
       "       'Departure/Arrival time convenient_1',\n",
       "       'Departure/Arrival time convenient_2',\n",
       "       'Departure/Arrival time convenient_3',\n",
       "       'Departure/Arrival time convenient_4',\n",
       "       'Departure/Arrival time convenient_5', 'Ease of Online booking_0',\n",
       "       'Ease of Online booking_1', 'Ease of Online booking_2',\n",
       "       'Ease of Online booking_3', 'Ease of Online booking_4',\n",
       "       'Ease of Online booking_5', 'Gate location_0', 'Gate location_1',\n",
       "       'Gate location_2', 'Gate location_3', 'Gate location_4',\n",
       "       'Gate location_5', 'Food and drink_0', 'Food and drink_1',\n",
       "       'Food and drink_2', 'Food and drink_3', 'Food and drink_4',\n",
       "       'Food and drink_5', 'Online boarding_0', 'Online boarding_1',\n",
       "       'Online boarding_2', 'Online boarding_3', 'Online boarding_4',\n",
       "       'Online boarding_5', 'Seat comfort_0', 'Seat comfort_1',\n",
       "       'Seat comfort_2', 'Seat comfort_3', 'Seat comfort_4', 'Seat comfort_5',\n",
       "       'Inflight entertainment_0', 'Inflight entertainment_1',\n",
       "       'Inflight entertainment_2', 'Inflight entertainment_3',\n",
       "       'Inflight entertainment_4', 'Inflight entertainment_5',\n",
       "       'On-board service_0', 'On-board service_1', 'On-board service_2',\n",
       "       'On-board service_3', 'On-board service_4', 'On-board service_5',\n",
       "       'Leg room service_0', 'Leg room service_1', 'Leg room service_2',\n",
       "       'Leg room service_3', 'Leg room service_4', 'Leg room service_5',\n",
       "       'Baggage handling_1', 'Baggage handling_2', 'Baggage handling_3',\n",
       "       'Baggage handling_4', 'Baggage handling_5', 'Checkin service_0',\n",
       "       'Checkin service_1', 'Checkin service_2', 'Checkin service_3',\n",
       "       'Checkin service_4', 'Checkin service_5', 'Inflight service_0',\n",
       "       'Inflight service_1', 'Inflight service_2', 'Inflight service_3',\n",
       "       'Inflight service_4', 'Inflight service_5', 'Cleanliness_0',\n",
       "       'Cleanliness_1', 'Cleanliness_2', 'Cleanliness_3', 'Cleanliness_4',\n",
       "       'Cleanliness_5', 'Gender', 'Customer Type', 'Type of Travel'],\n",
       "      dtype='object')"
      ]
     },
     "execution_count": 46,
     "metadata": {},
     "output_type": "execute_result"
    }
   ],
   "source": [
    "X.columns"
   ]
  },
  {
   "cell_type": "code",
   "execution_count": 47,
   "id": "c097977d",
   "metadata": {
    "execution": {
     "iopub.execute_input": "2023-07-16T18:43:37.314736Z",
     "iopub.status.busy": "2023-07-16T18:43:37.314055Z",
     "iopub.status.idle": "2023-07-16T18:43:37.322501Z",
     "shell.execute_reply": "2023-07-16T18:43:37.321457Z"
    },
    "papermill": {
     "duration": 0.047454,
     "end_time": "2023-07-16T18:43:37.324613",
     "exception": false,
     "start_time": "2023-07-16T18:43:37.277159",
     "status": "completed"
    },
    "tags": []
   },
   "outputs": [
    {
     "data": {
      "text/plain": [
       "0         neutral or dissatisfied\n",
       "1         neutral or dissatisfied\n",
       "2                       satisfied\n",
       "3         neutral or dissatisfied\n",
       "4                       satisfied\n",
       "                   ...           \n",
       "103899    neutral or dissatisfied\n",
       "103900                  satisfied\n",
       "103901    neutral or dissatisfied\n",
       "103902    neutral or dissatisfied\n",
       "103903    neutral or dissatisfied\n",
       "Name: satisfaction, Length: 103904, dtype: object"
      ]
     },
     "execution_count": 47,
     "metadata": {},
     "output_type": "execute_result"
    }
   ],
   "source": [
    "y\n"
   ]
  },
  {
   "cell_type": "markdown",
   "id": "f8a5a690",
   "metadata": {
    "papermill": {
     "duration": 0.033677,
     "end_time": "2023-07-16T18:43:37.391742",
     "exception": false,
     "start_time": "2023-07-16T18:43:37.358065",
     "status": "completed"
    },
    "tags": []
   },
   "source": [
    "Verileri 9:1 oranında eğitim ve test örneklerine ayıralım (%90 -training sample, %10 - test):"
   ]
  },
  {
   "cell_type": "code",
   "execution_count": 48,
   "id": "a2de8511",
   "metadata": {
    "execution": {
     "iopub.execute_input": "2023-07-16T18:43:37.462069Z",
     "iopub.status.busy": "2023-07-16T18:43:37.461706Z",
     "iopub.status.idle": "2023-07-16T18:43:37.600908Z",
     "shell.execute_reply": "2023-07-16T18:43:37.599840Z"
    },
    "papermill": {
     "duration": 0.177604,
     "end_time": "2023-07-16T18:43:37.603361",
     "exception": false,
     "start_time": "2023-07-16T18:43:37.425757",
     "status": "completed"
    },
    "tags": []
   },
   "outputs": [
    {
     "data": {
      "text/plain": [
       "(93513, 10391)"
      ]
     },
     "execution_count": 48,
     "metadata": {},
     "output_type": "execute_result"
    }
   ],
   "source": [
    "from sklearn.model_selection import train_test_split\n",
    "X_train, X_test, y_train, y_test = train_test_split(X, y, test_size = 0.1, random_state = 777)\n",
    "\n",
    "N_train, _ = X_train.shape \n",
    "N_test,  _ = X_test.shape \n",
    "\n",
    "N_train, N_test"
   ]
  },
  {
   "cell_type": "code",
   "execution_count": 49,
   "id": "b1cdc3ba",
   "metadata": {
    "execution": {
     "iopub.execute_input": "2023-07-16T18:43:37.673259Z",
     "iopub.status.busy": "2023-07-16T18:43:37.672582Z",
     "iopub.status.idle": "2023-07-16T18:43:38.004112Z",
     "shell.execute_reply": "2023-07-16T18:43:38.003155Z"
    },
    "papermill": {
     "duration": 0.369408,
     "end_time": "2023-07-16T18:43:38.006476",
     "exception": false,
     "start_time": "2023-07-16T18:43:37.637068",
     "status": "completed"
    },
    "tags": []
   },
   "outputs": [],
   "source": [
    "X_train = X_train.values\n",
    "y_train = y_train.values"
   ]
  },
  {
   "cell_type": "code",
   "execution_count": 50,
   "id": "47fb0a9d",
   "metadata": {
    "execution": {
     "iopub.execute_input": "2023-07-16T18:43:38.076378Z",
     "iopub.status.busy": "2023-07-16T18:43:38.075465Z",
     "iopub.status.idle": "2023-07-16T18:43:38.101334Z",
     "shell.execute_reply": "2023-07-16T18:43:38.100524Z"
    },
    "papermill": {
     "duration": 0.063335,
     "end_time": "2023-07-16T18:43:38.103633",
     "exception": false,
     "start_time": "2023-07-16T18:43:38.040298",
     "status": "completed"
    },
    "tags": []
   },
   "outputs": [],
   "source": [
    "X_test = X_test.values\n",
    "y_test = y_test.values"
   ]
  },
  {
   "cell_type": "markdown",
   "id": "0c166e6a",
   "metadata": {
    "papermill": {
     "duration": 0.033649,
     "end_time": "2023-07-16T18:43:38.171233",
     "exception": false,
     "start_time": "2023-07-16T18:43:38.137584",
     "status": "completed"
    },
    "tags": []
   },
   "source": [
    "<div style=\"border-width:1; border-radius: 15px; border-style: solid; border-color: rgb(10, 10, 10); background-color: #9370D8; text-align: center;font: 14pt 'Candara';font-weight:bold;\"><h2>K-nearest neighbors (kNN) method</h2></div>"
   ]
  },
  {
   "cell_type": "code",
   "execution_count": 51,
   "id": "1a241cab",
   "metadata": {
    "execution": {
     "iopub.execute_input": "2023-07-16T18:43:38.241051Z",
     "iopub.status.busy": "2023-07-16T18:43:38.240401Z",
     "iopub.status.idle": "2023-07-16T18:44:15.700204Z",
     "shell.execute_reply": "2023-07-16T18:44:15.699006Z"
    },
    "papermill": {
     "duration": 37.536523,
     "end_time": "2023-07-16T18:44:15.741871",
     "exception": false,
     "start_time": "2023-07-16T18:43:38.205348",
     "status": "completed"
    },
    "tags": []
   },
   "outputs": [
    {
     "name": "stdout",
     "output_type": "stream",
     "text": [
      "Training sample error:  0.05251676237528472\n",
      "Error on the test sample:  0.06544124723318256\n"
     ]
    }
   ],
   "source": [
    "knn = KNeighborsClassifier()\n",
    "\n",
    "knn.set_params(n_neighbors = 10)\n",
    "knn.fit(X_train, y_train)\n",
    "\n",
    "err_train = np.mean(y_train != knn.predict(X_train))\n",
    "err_test  = np.mean(y_test  != knn.predict(X_test))\n",
    "\n",
    "print('Training sample error: ', err_train)\n",
    "print('Error on the test sample: ', err_test)"
   ]
  },
  {
   "cell_type": "markdown",
   "id": "5c85f434",
   "metadata": {
    "papermill": {
     "duration": 0.034297,
     "end_time": "2023-07-16T18:44:15.811484",
     "exception": false,
     "start_time": "2023-07-16T18:44:15.777187",
     "status": "completed"
    },
    "tags": []
   },
   "source": [
    "<div style=\"border-width:1; border-radius: 15px; border-style: solid; border-color: rgb(10, 10, 10); background-color: #9370D8; text-align: center;font: 14pt 'Candara';font-weight:bold;\"><h2>SVC</h2></div>"
   ]
  },
  {
   "cell_type": "code",
   "execution_count": 52,
   "id": "8038f003",
   "metadata": {
    "execution": {
     "iopub.execute_input": "2023-07-16T18:44:15.883724Z",
     "iopub.status.busy": "2023-07-16T18:44:15.882804Z",
     "iopub.status.idle": "2023-07-16T18:44:48.536977Z",
     "shell.execute_reply": "2023-07-16T18:44:48.535824Z"
    },
    "papermill": {
     "duration": 32.727173,
     "end_time": "2023-07-16T18:44:48.573188",
     "exception": false,
     "start_time": "2023-07-16T18:44:15.846015",
     "status": "completed"
    },
    "tags": []
   },
   "outputs": [
    {
     "name": "stdout",
     "output_type": "stream",
     "text": [
      "Training sample error:  0.04965085068386214\n",
      "Error on the test sample:  0.050235780964296026\n"
     ]
    }
   ],
   "source": [
    "svc = SVC(gamma = 'auto')\n",
    "svc.fit(X_train, y_train)\n",
    "\n",
    "err_train = np.mean(y_train != svc.predict(X_train))\n",
    "err_test  = np.mean(y_test  != svc.predict(X_test))\n",
    "\n",
    "print('Training sample error: ', err_train)\n",
    "print('Error on the test sample: ', err_test)"
   ]
  },
  {
   "cell_type": "markdown",
   "id": "5f77c35c",
   "metadata": {
    "papermill": {
     "duration": 0.033526,
     "end_time": "2023-07-16T18:44:48.640925",
     "exception": false,
     "start_time": "2023-07-16T18:44:48.607399",
     "status": "completed"
    },
    "tags": []
   },
   "source": [
    "<div style=\"border-width:1; border-radius: 15px; border-style: solid; border-color: rgb(10, 10, 10); background-color: #9370D8; text-align: center;font: 14pt 'Candara';font-weight:bold;\"><h2>Random Forest</h2></div>"
   ]
  },
  {
   "cell_type": "code",
   "execution_count": 53,
   "id": "d4eb909f",
   "metadata": {
    "execution": {
     "iopub.execute_input": "2023-07-16T18:44:48.713156Z",
     "iopub.status.busy": "2023-07-16T18:44:48.712434Z",
     "iopub.status.idle": "2023-07-16T18:45:06.423861Z",
     "shell.execute_reply": "2023-07-16T18:45:06.422713Z"
    },
    "papermill": {
     "duration": 17.7495,
     "end_time": "2023-07-16T18:45:06.426444",
     "exception": false,
     "start_time": "2023-07-16T18:44:48.676944",
     "status": "completed"
    },
    "tags": []
   },
   "outputs": [
    {
     "name": "stdout",
     "output_type": "stream",
     "text": [
      "Training sample error:  6.416220204677425e-05\n",
      "Error on the test sample:  0.03724376864594361\n"
     ]
    }
   ],
   "source": [
    "rf = ensemble.RandomForestClassifier(n_estimators = 100)\n",
    "rf.fit(X_train, y_train)\n",
    "\n",
    "err_train = np.mean(y_train != rf.predict(X_train))\n",
    "err_test  = np.mean(y_test  != rf.predict(X_test))\n",
    "\n",
    "print('Training sample error: ', err_train)\n",
    "print('Error on the test sample: ', err_test)"
   ]
  },
  {
   "cell_type": "markdown",
   "id": "0e9d1625",
   "metadata": {
    "papermill": {
     "duration": 0.033963,
     "end_time": "2023-07-16T18:45:06.495867",
     "exception": false,
     "start_time": "2023-07-16T18:45:06.461904",
     "status": "completed"
    },
    "tags": []
   },
   "source": [
    "<div style=\"border-width:1; border-radius: 15px; border-style: solid; border-color: rgb(10, 10, 10); background-color: #9370D8; text-align: center;font: 14pt 'Candara';font-weight:bold;\"><h2>Extremely Randomized Trees</h2></div>"
   ]
  },
  {
   "cell_type": "code",
   "execution_count": 54,
   "id": "f8837b03",
   "metadata": {
    "execution": {
     "iopub.execute_input": "2023-07-16T18:45:06.567650Z",
     "iopub.status.busy": "2023-07-16T18:45:06.567244Z",
     "iopub.status.idle": "2023-07-16T18:45:34.920487Z",
     "shell.execute_reply": "2023-07-16T18:45:34.919123Z"
    },
    "papermill": {
     "duration": 28.392378,
     "end_time": "2023-07-16T18:45:34.922879",
     "exception": false,
     "start_time": "2023-07-16T18:45:06.530501",
     "status": "completed"
    },
    "tags": []
   },
   "outputs": [
    {
     "name": "stdout",
     "output_type": "stream",
     "text": [
      "Training sample error:  0.0\n",
      "Error on the test sample:  0.0396496968530459\n"
     ]
    }
   ],
   "source": [
    "ert = ensemble.ExtraTreesClassifier(n_estimators = 100).fit(X_train, y_train)\n",
    "\n",
    "err_train = np.mean(y_train != ert.predict(X_train))\n",
    "err_test  = np.mean(y_test  != ert.predict(X_test))\n",
    "\n",
    "print('Training sample error: ', err_train)\n",
    "print('Error on the test sample: ', err_test)"
   ]
  },
  {
   "cell_type": "markdown",
   "id": "40260b98",
   "metadata": {
    "execution": {
     "iopub.execute_input": "2023-07-16T12:48:46.809212Z",
     "iopub.status.busy": "2023-07-16T12:48:46.808742Z",
     "iopub.status.idle": "2023-07-16T12:48:46.816584Z",
     "shell.execute_reply": "2023-07-16T12:48:46.815022Z",
     "shell.execute_reply.started": "2023-07-16T12:48:46.809162Z"
    },
    "papermill": {
     "duration": 0.034019,
     "end_time": "2023-07-16T18:45:34.991958",
     "exception": false,
     "start_time": "2023-07-16T18:45:34.957939",
     "status": "completed"
    },
    "tags": []
   },
   "source": [
    "<div style=\"border-width:1; border-radius: 15px; border-style: solid; border-color: rgb(10, 10, 10); background-color: #9370D8; text-align: center;font: 14pt 'Candara';font-weight:bold;\"><h2>AdaBoost</h2></div>"
   ]
  },
  {
   "cell_type": "code",
   "execution_count": 55,
   "id": "957b5f2d",
   "metadata": {
    "execution": {
     "iopub.execute_input": "2023-07-16T18:45:35.063488Z",
     "iopub.status.busy": "2023-07-16T18:45:35.063079Z",
     "iopub.status.idle": "2023-07-16T18:48:02.102751Z",
     "shell.execute_reply": "2023-07-16T18:48:02.101342Z"
    },
    "papermill": {
     "duration": 147.112227,
     "end_time": "2023-07-16T18:48:02.140039",
     "exception": false,
     "start_time": "2023-07-16T18:45:35.027812",
     "status": "completed"
    },
    "tags": []
   },
   "outputs": [
    {
     "name": "stdout",
     "output_type": "stream",
     "text": [
      "Training sample error:  0.0702576112412178\n",
      "Error on the test sample:  0.07160042344336445\n"
     ]
    }
   ],
   "source": [
    "ada = ensemble.AdaBoostClassifier(n_estimators = 100)\n",
    "ada.fit(X_train, y_train)\n",
    "\n",
    "err_train = np.mean(y_train != ada.predict(X_train))\n",
    "err_test = np.mean(y_test != ada.predict(X_test))\n",
    "\n",
    "print('Training sample error: ', err_train)\n",
    "print('Error on the test sample: ', err_test)"
   ]
  },
  {
   "cell_type": "markdown",
   "id": "545692af",
   "metadata": {
    "papermill": {
     "duration": 0.034944,
     "end_time": "2023-07-16T18:48:02.209387",
     "exception": false,
     "start_time": "2023-07-16T18:48:02.174443",
     "status": "completed"
    },
    "tags": []
   },
   "source": [
    "<div style=\"border-width:1; border-radius: 15px; border-style: solid; border-color: rgb(10, 10, 10); background-color: #9370D8; text-align: center;font: 14pt 'Candara';font-weight:bold;\"><h2>GBT</h2></div>"
   ]
  },
  {
   "cell_type": "code",
   "execution_count": 56,
   "id": "8bff1199",
   "metadata": {
    "execution": {
     "iopub.execute_input": "2023-07-16T18:48:02.281463Z",
     "iopub.status.busy": "2023-07-16T18:48:02.280699Z",
     "iopub.status.idle": "2023-07-16T18:48:33.988771Z",
     "shell.execute_reply": "2023-07-16T18:48:33.987956Z"
    },
    "papermill": {
     "duration": 31.781116,
     "end_time": "2023-07-16T18:48:34.025726",
     "exception": false,
     "start_time": "2023-07-16T18:48:02.244610",
     "status": "completed"
    },
    "tags": []
   },
   "outputs": [
    {
     "name": "stdout",
     "output_type": "stream",
     "text": [
      "Training sample error:  0.055286430763637144\n",
      "Error on the test sample:  0.056394957174477914\n"
     ]
    }
   ],
   "source": [
    "gbt = ensemble.GradientBoostingClassifier(n_estimators = 100)\n",
    "gbt.fit(X_train, y_train)\n",
    "\n",
    "err_train = np.mean(y_train != gbt.predict(X_train))\n",
    "err_test = np.mean(y_test != gbt.predict(X_test))\n",
    "\n",
    "print('Training sample error: ', err_train)\n",
    "print('Error on the test sample: ', err_test)"
   ]
  },
  {
   "cell_type": "markdown",
   "id": "7beb1c3f",
   "metadata": {
    "papermill": {
     "duration": 0.033935,
     "end_time": "2023-07-16T18:48:34.093716",
     "exception": false,
     "start_time": "2023-07-16T18:48:34.059781",
     "status": "completed"
    },
    "tags": []
   },
   "source": [
    "<div style=\"border-width:1; border-radius: 15px; border-style: solid; border-color: rgb(10, 10, 10); background-color: #9370D8; text-align: center;font: 14pt 'Candara';font-weight:bold;\"><h2>General conclusions</h2></div>"
   ]
  },
  {
   "cell_type": "markdown",
   "id": "7567e6cc",
   "metadata": {
    "papermill": {
     "duration": 0.034104,
     "end_time": "2023-07-16T18:48:34.161981",
     "exception": false,
     "start_time": "2023-07-16T18:48:34.127877",
     "status": "completed"
    },
    "tags": []
   },
   "source": [
    "## Ele alınan örneklem hakkında sonuçlar:\n",
    "\n",
    "- Örneklem aşağı yukarı dengelidir (%43,3'e %56,7).\n",
    "- Bu örneklemdeki erkek ve kadın sayısı yaklaşık olarak aynıdır.\n",
    "- Havayolu şirketinin müşterilerinin büyük çoğunluğu tekrar eden müşterilerdir.\n",
    "- Müşterilerimizin çoğu kişisel nedenlerden ziyade iş için uçmuştur.\n",
    "- Yolcuların yaklaşık yarısı business sınıfındaydı.\n",
    "- Yolcuların %60'ından fazlası bagaj taşıma hizmetinden memnun kalmıştır (5 üzerinden 4-5 puan).\n",
    "- Yolcuların %50'sinden fazlası koltuklarında otururken rahattı (5 üzerinden 4-5 puan).\n",
    "- 'Dakika cinsinden kalkış gecikmesi' ve 'Dakika cinsinden varış gecikmesi' özellikleri arasında güçlü bir korelasyon (%96) vardı (bu oldukça mantıklıdır ve yukarıda ayrıntılı olarak tartışılmıştır).\n",
    "- Havayolunun düzenli müşterilerinin çoğu 30 ila 50 yaşları arasındadır (ortalama 40'ın biraz üzerindedir). Düzenli olmayan müşterilerin yaş aralığı biraz daha küçüktür (25 ila 40 yaş arasında, ortalama 30'dan biraz daha az).\n",
    "- Uçuş mesafesi uzun olan müşteriler business sınıfında uçma eğilimindedir.\n",
    "- Bir uçak yolcusu ne kadar çok mesafe kat ederse (sırasıyla, ne kadar uzun süre uçuşta kalırsa), uçak içi eğlence ve ekstra diz mesafesinden (ortalama olarak) o kadar memnun kalmaktadır.\n",
    "- Economy Plus veya Economy Class'ta uçan yolcuların çoğu uçuştan memnun kalmazken, Business Class'ta uçacak kadar şanslı olanlar memnun kaldı.\n",
    "- Wifi hizmetini 5 üzerinden 5 olarak değerlendiren yolcuların neredeyse tamamı uçuştan memnun kaldı.\n",
    "- Koltukların konforunu ve ekstra diz mesafesini 5 üzerinden 4 ve 5 puanla değerlendiren yolcuların çoğunluğu uçuştan memnun kaldı."
   ]
  },
  {
   "cell_type": "markdown",
   "id": "d0de5ed8",
   "metadata": {
    "papermill": {
     "duration": 0.033926,
     "end_time": "2023-07-16T18:48:34.229800",
     "exception": false,
     "start_time": "2023-07-16T18:48:34.195874",
     "status": "completed"
    },
    "tags": []
   },
   "source": [
    "## Sınıflandırma sonuçlarına ilişkin sonuçlar:\n",
    "\n",
    "- kNN yöntemi için eğitim setindeki hata %5,2 ve test setindeki hata %6,5 olmuştur.\n",
    "- Destek vektör makinesi için hem eğitim hem de test setlerindeki hata %5'tir.\n",
    "- Rastgele Orman ve Aşırı Rastgele Orman sınıflandırıcıları için eğitim setinde hata gözlenmemiştir, ancak test setinde hata %3,9'dur.\n",
    "- AdaBoost algoritması için eğitim setindeki hata %7, test setindeki hata ise %7,2'dir.\n",
    "- Gradyan destekli karar ağaçları için eğitim ve test örneklerindeki hata sırasıyla %5,5 ve %5,6 olmuştur.\n",
    "- Random ve Extremely Random Forest sınıflandırıcıları en iyi sonucu göstermiştir (test örneğindeki hata %3,9'dur)."
   ]
  },
  {
   "cell_type": "markdown",
   "id": "f24ac514",
   "metadata": {
    "papermill": {
     "duration": 0.034931,
     "end_time": "2023-07-16T18:48:34.298935",
     "exception": false,
     "start_time": "2023-07-16T18:48:34.264004",
     "status": "completed"
    },
    "tags": []
   },
   "source": [
    "Bu Notebook https://www.kaggle.com/code/frixinglife/airline-passenger-satisfaction-part-1 adresinden alınmıştır,notebook üzerinde bazı hatalar giderilmiştir ve yorumlar tekrar değerlendirilerek türkçeye çevrilmiştir. Teşekkürler."
   ]
  },
  {
   "cell_type": "code",
   "execution_count": null,
   "id": "311310d8",
   "metadata": {
    "papermill": {
     "duration": 0.034095,
     "end_time": "2023-07-16T18:48:34.367602",
     "exception": false,
     "start_time": "2023-07-16T18:48:34.333507",
     "status": "completed"
    },
    "tags": []
   },
   "outputs": [],
   "source": []
  }
 ],
 "metadata": {
  "kernelspec": {
   "display_name": "Python 3",
   "language": "python",
   "name": "python3"
  },
  "language_info": {
   "codemirror_mode": {
    "name": "ipython",
    "version": 3
   },
   "file_extension": ".py",
   "mimetype": "text/x-python",
   "name": "python",
   "nbconvert_exporter": "python",
   "pygments_lexer": "ipython3",
   "version": "3.10.12"
  },
  "papermill": {
   "default_parameters": {},
   "duration": 340.663209,
   "end_time": "2023-07-16T18:48:35.829072",
   "environment_variables": {},
   "exception": null,
   "input_path": "__notebook__.ipynb",
   "output_path": "__notebook__.ipynb",
   "parameters": {},
   "start_time": "2023-07-16T18:42:55.165863",
   "version": "2.4.0"
  }
 },
 "nbformat": 4,
 "nbformat_minor": 5
}

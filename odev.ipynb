{
  "nbformat": 4,
  "nbformat_minor": 0,
  "metadata": {
    "colab": {
      "provenance": []
    },
    "kernelspec": {
      "name": "python3",
      "display_name": "Python 3"
    },
    "language_info": {
      "name": "python"
    }
  },
  "cells": [
    {
      "cell_type": "markdown",
      "source": [
        "#PYTHON 2. HAFTA ODEV\n"
      ],
      "metadata": {
        "id": "NrChQkPUDXM_"
      }
    },
    {
      "cell_type": "code",
      "source": [
        "#girilen sayının pozitif, negatif veya sıfır olduğunu gösteren koşul\n",
        "\n",
        "sayı= int(input(\"lutfen bir sayı giriniz\"))\n",
        "\n",
        "if sayı < 0:\n",
        "    print(\"sayı negatiftir.\")\n",
        "elif sayı > 0:\n",
        "    print(\"sayı pozitiftir.\")\n",
        "else:\n",
        "    print(\"0\")"
      ],
      "metadata": {
        "colab": {
          "base_uri": "https://localhost:8080/"
        },
        "id": "f3J7ntvKERr3",
        "outputId": "59f842d4-869f-48af-fa3b-71cff575745c"
      },
      "execution_count": null,
      "outputs": [
        {
          "output_type": "stream",
          "name": "stdout",
          "text": [
            " lutfen bir sayı giriniz 0\n",
            "0\n"
          ]
        }
      ]
    },
    {
      "cell_type": "code",
      "source": [
        "#girilen sayının tek mi çift mi olduğunu gösteren koşul\n",
        "\n",
        "sayı= int(input(\" lutfen bir sayı giriniz \"))\n",
        "\n",
        "if sayı % 2 == 0:\n",
        "  print(\"sayı çifttir.\")\n",
        "else:\n",
        "  print(\"sayı tektir.\")\n"
      ],
      "metadata": {
        "colab": {
          "base_uri": "https://localhost:8080/"
        },
        "id": "5ouXIhv5Vv-U",
        "outputId": "5e0be7ee-5d19-47d3-cd69-10e53f3e4a90"
      },
      "execution_count": null,
      "outputs": [
        {
          "output_type": "stream",
          "name": "stdout",
          "text": [
            " lutfen bir sayı giriniz 11\n",
            "sayı tektir.\n"
          ]
        }
      ]
    },
    {
      "cell_type": "code",
      "source": [
        "#girilen nota göre harf aralğını yazan koşul\n",
        "\n",
        "puan = int(input(\" notunuzu girin \"))\n",
        "\n",
        "if puan >= 90:\n",
        "  print(\"harf notunuz A\")\n",
        "elif puan >= 80:\n",
        "  print(\"harf notunuz B\")\n",
        "elif puan >= 70:\n",
        "  print(\"harf notunuz C\")\n",
        "elif puan >= 60:\n",
        "  print(\"harf notunuz D\")\n",
        "else:\n",
        "  print(\"harf notunuz F\")"
      ],
      "metadata": {
        "colab": {
          "base_uri": "https://localhost:8080/"
        },
        "id": "ok_etchdXhuz",
        "outputId": "2cb1925e-4143-4683-f1d6-96c4a16501f5"
      },
      "execution_count": null,
      "outputs": [
        {
          "output_type": "stream",
          "name": "stdout",
          "text": [
            " notunuzu girin 51\n",
            "harf notunuz F\n"
          ]
        }
      ]
    },
    {
      "cell_type": "code",
      "source": [
        "#girilen ismin karakter sayısı 5'ten fazlaysa \"uzun bir isminiz var\", değilse ismini yazsın\n",
        "\n",
        "isim= input(\" isminizi yazın \")\n",
        "\n",
        "if len(isim) > 5:\n",
        "  print(\"uzun bir isminiz var!\")\n",
        "else:\n",
        "  print(f\"isminiz:{isim}\")"
      ],
      "metadata": {
        "colab": {
          "base_uri": "https://localhost:8080/"
        },
        "id": "GkdGMNNua-aG",
        "outputId": "811943c2-e8db-41e9-9c20-5d83a709a39f"
      },
      "execution_count": null,
      "outputs": [
        {
          "output_type": "stream",
          "name": "stdout",
          "text": [
            " isminizi yazın dilay\n",
            "isminiz:dilay\n"
          ]
        }
      ]
    },
    {
      "cell_type": "code",
      "source": [
        "#girilen sayının asal olup olmadığı\n",
        "\n",
        "sayi = int(input(\"sayı girin: \"))\n",
        "\n",
        "if sayi < 2:\n",
        "    print(\"asal değil\")\n",
        "else:\n",
        "    for i in range(2, sayi):\n",
        "        if sayi % i == 0:\n",
        "            print(\"asal değil\")\n",
        "            break\n",
        "    else:\n",
        "        print(\"asal\")"
      ],
      "metadata": {
        "colab": {
          "base_uri": "https://localhost:8080/"
        },
        "id": "n3rqZzSYcKjs",
        "outputId": "e27042a1-f11e-4e52-c592-978dbfa6b1c9"
      },
      "execution_count": null,
      "outputs": [
        {
          "output_type": "stream",
          "name": "stdout",
          "text": [
            "sayı girin: 1\n",
            "asal değil\n"
          ]
        }
      ]
    },
    {
      "cell_type": "code",
      "source": [
        "#notlar=[45,85,75,50] içinde 75 degerinin indisini yazdıran döngü\n",
        "\n",
        "notlar = [45, 85, 75, 50]\n",
        "\n",
        "for i in range(len(notlar)):\n",
        "    if notlar[i] == 75:\n",
        "        print(i)\n",
        "        break\n"
      ],
      "metadata": {
        "colab": {
          "base_uri": "https://localhost:8080/"
        },
        "id": "qRrJYOGwdnLl",
        "outputId": "4730e099-0c9b-4660-9a86-fa855934a6c9"
      },
      "execution_count": null,
      "outputs": [
        {
          "output_type": "stream",
          "name": "stdout",
          "text": [
            "2\n"
          ]
        }
      ]
    },
    {
      "cell_type": "code",
      "source": [
        "#girilen sayıların faktoriyelini alan kod\n",
        "\n",
        "sayi = int(input(\"bir sayı girin: \"))\n",
        "faktoriyel = 1\n",
        "\n",
        "for i in range(1, sayi + 1):\n",
        "    faktoriyel *= i\n",
        "\n",
        "print(f\"{sayi}! = {faktoriyel}\")"
      ],
      "metadata": {
        "colab": {
          "base_uri": "https://localhost:8080/"
        },
        "id": "dmcPaZHghSXV",
        "outputId": "6793e63b-45ee-4938-eb51-640b11ca905b"
      },
      "execution_count": null,
      "outputs": [
        {
          "output_type": "stream",
          "name": "stdout",
          "text": [
            "bir sayı girin: 9\n",
            "9! = 362880\n"
          ]
        }
      ]
    },
    {
      "cell_type": "code",
      "source": [
        "#kullanıcıdan pozitif bir sayı bekleyen, pozitifi gordugu an bastıran, negatif sayı girildikce bir daha soran yapı kuralım. (for dongusu ile)\n",
        "\n",
        "for i in range(100):  # 100 kez deneme hakkı, pratikte sonsuz gibi\n",
        "    sayi = int(input(\"pozitif bir sayı girin: \"))\n",
        "    if sayi > 0:\n",
        "        print(f\"girilen pozitif sayı: {sayi}\")\n",
        "        break\n",
        "    else:\n",
        "        print(\"negatif sayı girdiniz, tekrar deneyin.\")"
      ],
      "metadata": {
        "colab": {
          "base_uri": "https://localhost:8080/"
        },
        "id": "nhQIH_e7i-xU",
        "outputId": "5942de6a-6a34-4663-e0ac-bec8979d677e"
      },
      "execution_count": null,
      "outputs": [
        {
          "output_type": "stream",
          "name": "stdout",
          "text": [
            "pozitif bir sayı girin: 13\n",
            "girilen pozitif sayı: 13\n"
          ]
        }
      ]
    },
    {
      "cell_type": "code",
      "source": [
        "#fonksiyon ile girilen sayının asal olup olmadıgını bulan kod dizisi\n",
        "\n",
        "def asal_mi(sayi):\n",
        "    if sayi < 2:\n",
        "        return False\n",
        "    for i in range(2, int(sayi**0.5) + 1):\n",
        "        if sayi % i == 0:\n",
        "            return False\n",
        "    return True\n",
        "sayi = int(input(\"bir sayı girin: \"))\n",
        "print(f\"{sayi} asal mı? {asal_mi(sayi)}\")"
      ],
      "metadata": {
        "colab": {
          "base_uri": "https://localhost:8080/"
        },
        "id": "qxXt_FAuknSh",
        "outputId": "0a408814-40ac-4a0c-955b-f6bb427d654f"
      },
      "execution_count": null,
      "outputs": [
        {
          "output_type": "stream",
          "name": "stdout",
          "text": [
            "bir sayı girin: 9\n",
            "9 asal mı? False\n"
          ]
        }
      ]
    }
  ]
}